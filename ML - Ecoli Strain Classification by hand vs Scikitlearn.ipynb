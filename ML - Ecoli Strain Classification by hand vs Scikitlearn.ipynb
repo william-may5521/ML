{
 "cells": [
  {
   "cell_type": "code",
   "execution_count": 1,
   "id": "81fc71f3",
   "metadata": {},
   "outputs": [],
   "source": [
    "from sklearn.datasets import fetch_openml\n",
    "from sklearn import datasets\n",
    "import time\n",
    "import numpy as np\n",
    "from numpy import linalg as LA\n",
    "from sklearn.model_selection import train_test_split\n",
    "import time\n",
    "import matplotlib.pyplot as plt\n",
    "import pandas as pd\n",
    "import os\n",
    "from sklearn.multiclass import OneVsRestClassifier\n",
    "from sklearn.svm import LinearSVC\n",
    "from sklearn import svm\n",
    "from sklearn import metrics\n",
    "import statistics\n",
    "from sklearn.svm import SVC"
   ]
  },
  {
   "cell_type": "code",
   "execution_count": 2,
   "id": "c4c821bd",
   "metadata": {},
   "outputs": [],
   "source": [
    "#Data Set Up"
   ]
  },
  {
   "cell_type": "code",
   "execution_count": 3,
   "id": "50db0dad",
   "metadata": {},
   "outputs": [],
   "source": [
    "extract = np.asarray(pd.read_fwf(os.getcwd()+\"/Downloads/Ecoli/ecoli.data\"))"
   ]
  },
  {
   "cell_type": "code",
   "execution_count": 4,
   "id": "affccf9b",
   "metadata": {},
   "outputs": [
    {
     "name": "stdout",
     "output_type": "stream",
     "text": [
      "[[0.07 0.4 0.48 ... 0.54 0.35 0.44]\n",
      " [0.56 0.4 0.48 ... 0.49 0.37 0.46]\n",
      " [0.59 0.49 0.48 ... 0.52 0.45 0.36]\n",
      " ...\n",
      " [0.61 0.6 0.48 ... 0.44 0.39 0.38]\n",
      " [0.59 0.61 0.48 ... 0.42 0.42 0.37]\n",
      " [0.74 0.74 0.48 ... 0.31 0.53 0.52]]\n",
      "['cp' 'cp' 'cp' 'cp' 'cp' 'cp' 'cp' 'cp' 'cp' 'cp' 'cp' 'cp' 'cp' 'cp'\n",
      " 'cp' 'cp' 'cp' 'cp' 'cp' 'cp' 'cp' 'cp' 'cp' 'cp' 'cp' 'cp' 'cp' 'cp'\n",
      " 'cp' 'cp' 'cp' 'cp' 'cp' 'cp' 'cp' 'cp' 'cp' 'cp' 'cp' 'cp' 'cp' 'cp'\n",
      " 'cp' 'cp' 'cp' 'cp' 'cp' 'cp' 'cp' 'cp' 'cp' 'cp' 'cp' 'cp' 'cp' 'cp'\n",
      " 'cp' 'cp' 'cp' 'cp' 'cp' 'cp' 'cp' 'cp' 'cp' 'cp' 'cp' 'cp' 'cp' 'cp'\n",
      " 'cp' 'cp' 'cp' 'cp' 'cp' 'cp' 'cp' 'cp' 'cp' 'cp' 'cp' 'cp' 'cp' 'cp'\n",
      " 'cp' 'cp' 'cp' 'cp' 'cp' 'cp' 'cp' 'cp' 'cp' 'cp' 'cp' 'cp' 'cp' 'cp'\n",
      " 'cp' 'cp' 'cp' 'cp' 'cp' 'cp' 'cp' 'cp' 'cp' 'cp' 'cp' 'cp' 'cp' 'cp'\n",
      " 'cp' 'cp' 'cp' 'cp' 'cp' 'cp' 'cp' 'cp' 'cp' 'cp' 'cp' 'cp' 'cp' 'cp'\n",
      " 'cp' 'cp' 'cp' 'cp' 'cp' 'cp' 'cp' 'cp' 'cp' 'cp' 'cp' 'cp' 'cp' 'cp'\n",
      " 'cp' 'cp' 'im' 'im' 'im' 'im' 'im' 'im' 'im' 'im' 'im' 'im' 'im' 'im'\n",
      " 'im' 'im' 'im' 'im' 'im' 'im' 'im' 'im' 'im' 'im' 'im' 'im' 'im' 'im'\n",
      " 'im' 'im' 'im' 'im' 'im' 'im' 'im' 'im' 'im' 'im' 'im' 'im' 'im' 'im'\n",
      " 'im' 'im' 'im' 'im' 'im' 'im' 'im' 'im' 'im' 'im' 'im' 'im' 'im' 'im'\n",
      " 'im' 'im' 'im' 'im' 'im' 'im' 'im' 'im' 'im' 'im' 'im' 'im' 'im' 'im'\n",
      " 'im' 'im' 'im' 'im' 'im' 'im' 'im' 'im' 'im' 'mS' 'mS' 'mL' 'mL' 'mU'\n",
      " 'mU' 'mU' 'mU' 'mU' 'mU' 'mU' 'mU' 'mU' 'mU' 'mU' 'mU' 'mU' 'mU' 'mU'\n",
      " 'mU' 'mU' 'mU' 'mU' 'mU' 'mU' 'mU' 'mU' 'mU' 'mU' 'mU' 'mU' 'mU' 'mU'\n",
      " 'mU' 'mU' 'mU' 'mU' 'mU' 'mU' 'om' 'om' 'om' 'om' 'om' 'om' 'om' 'om'\n",
      " 'om' 'om' 'om' 'om' 'om' 'om' 'om' 'om' 'om' 'om' 'om' 'om' 'mL' 'mL'\n",
      " 'mL' 'mL' 'mL' 'pp' 'pp' 'pp' 'pp' 'pp' 'pp' 'pp' 'pp' 'pp' 'pp' 'pp'\n",
      " 'pp' 'pp' 'pp' 'pp' 'pp' 'pp' 'pp' 'pp' 'pp' 'pp' 'pp' 'pp' 'pp' 'pp'\n",
      " 'pp' 'pp' 'pp' 'pp' 'pp' 'pp' 'pp' 'pp' 'pp' 'pp' 'pp' 'pp' 'pp' 'pp'\n",
      " 'pp' 'pp' 'pp' 'pp' 'pp' 'pp' 'pp' 'pp' 'pp' 'pp' 'pp' 'pp' 'pp']\n"
     ]
    }
   ],
   "source": [
    "extract1 = extract[:,1:]\n",
    "extract1\n",
    "X = extract1[:,:7]\n",
    "Y = extract1[:,7]\n",
    "print(X)\n",
    "print(Y)"
   ]
  },
  {
   "cell_type": "code",
   "execution_count": 5,
   "id": "56f7f07a",
   "metadata": {},
   "outputs": [],
   "source": [
    "m = X.shape[0]\n",
    "n = X.shape[1] + 1\n",
    "X = np.concatenate((np.ones([m,1]),X), axis=1) # add one to each data point\n",
    "x_train, x_test, y_train, y_test = train_test_split(X, Y, test_size = 0.15, random_state=46)"
   ]
  },
  {
   "cell_type": "code",
   "execution_count": 6,
   "id": "4355363d",
   "metadata": {},
   "outputs": [
    {
     "name": "stdout",
     "output_type": "stream",
     "text": [
      "information of datasets:\n",
      "- X original: 335 x 8\n",
      "(335,)\n"
     ]
    }
   ],
   "source": [
    "print('information of datasets:')\n",
    "print(f'- X original: {X.shape[0]} x {X.shape[1]}')\n",
    "print(Y.shape)"
   ]
  },
  {
   "cell_type": "code",
   "execution_count": 7,
   "id": "7fb3c14a",
   "metadata": {},
   "outputs": [],
   "source": [
    "#Binary Classification without kernels"
   ]
  },
  {
   "cell_type": "code",
   "execution_count": 8,
   "id": "8c4a5ec1",
   "metadata": {},
   "outputs": [],
   "source": [
    "cp = \"cp\"\n",
    "im = \"im\"\n",
    "\n",
    "whereiscp = np.where(Y==cp)[0]\n",
    "whereisim = np.where(Y==im)[0]\n",
    "\n",
    "indxcpim = np.concatenate((whereiscp,whereisim))\n",
    "\n",
    "Xcpim = X[indxcpim]\n",
    "Ycpim = np.ones(len(indxcpim))\n",
    "Ycpim[whereisim] =-1\n",
    "\n",
    "xdual_train, xdual_test, ydual_train, ydual_test = train_test_split(Xcpim, Ycpim, test_size = 0.30, random_state=46)"
   ]
  },
  {
   "cell_type": "code",
   "execution_count": 9,
   "id": "9bfa1818",
   "metadata": {},
   "outputs": [],
   "source": [
    "#Creating Classifier\n",
    "N = len(ydual_train)\n",
    "XPY = xdual_train.copy()\n",
    "for i in range(N):\n",
    "    if ydual_train[i]==-1:\n",
    "        XPY[i,:] =-1 * XPY[i,:]   \n",
    "\n",
    "A = np.matmul(XPY,XPY.transpose())\n",
    "\n",
    "YM = np.outer(ydual_train[1:],ydual_train[1:])\n",
    "AY = np.outer(A[0,1:],ydual_train[1:])\n",
    "YA = np.outer(ydual_train[1:],A[0,1:])\n",
    "\n",
    "\n",
    "Y0S = ydual_train[0]**2\n",
    "M = A[1:,1:] + A[0,0]*YM/Y0S - AY/ydual_train[0] - YA/ydual_train[0]\n",
    "    \n",
    "aw = np.zeros(N)\n",
    "\n",
    "bright = np.zeros(N)\n",
    "bright = 1 - ydual_train/ydual_train[0]\n",
    "\n",
    "adiag = np.diagonal(A)\n",
    "t1    = A[0,0]\n",
    "t2    = 2*np.multiply(A[0,:],ydual_train)/ydual_train[0]\n",
    "t3    = adiag + t1 - t2\n",
    "indxnzero = np.where(t3 != 0)\n",
    "aw[indxnzero[0]]    = np.divide(bright[indxnzero],t3[indxnzero])\n",
    "aw[0] =-sum(ydual_train[indxnzero]*aw[indxnzero])/ydual_train[0]\n",
    "    \n",
    "YA = np.zeros(N)\n",
    "YA[0] = ydual_train[0]*aw[0]\n",
    "YA[indxnzero] = ydual_train[indxnzero]*aw[indxnzero]\n",
    "wght = sum(xdual_train * YA[:,None])\n",
    "b =sum(ydual_train - np.matmul(xdual_train,wght))/N"
   ]
  },
  {
   "cell_type": "code",
   "execution_count": 10,
   "id": "1d5f2e1d",
   "metadata": {},
   "outputs": [],
   "source": [
    "#Creating fit\n",
    "yfit = np.matmul(xdual_test,wght) + b\n",
    "yfitsign = np.sign(yfit)\n",
    "ydiff = yfitsign - np.asfarray(ydual_test)\n",
    "wherediff = np.where(ydiff != 0)"
   ]
  },
  {
   "cell_type": "code",
   "execution_count": 11,
   "id": "e4bc1e8e",
   "metadata": {},
   "outputs": [
    {
     "name": "stdout",
     "output_type": "stream",
     "text": [
      "Accuracy =  0.9393939393939394\n",
      "Error =  0.06060606060606061\n"
     ]
    }
   ],
   "source": [
    "print(\"Accuracy = \", 1- len(wherediff[0])/len(ydual_test))\n",
    "print(\"Error = \", len(wherediff[0])/len(ydual_test))"
   ]
  },
  {
   "cell_type": "code",
   "execution_count": 12,
   "id": "d8734c3c",
   "metadata": {},
   "outputs": [],
   "source": [
    "#Binary Sklearn without kernels"
   ]
  },
  {
   "cell_type": "code",
   "execution_count": 13,
   "id": "0d073a57",
   "metadata": {},
   "outputs": [],
   "source": [
    "clf = svm.SVC(kernel='linear') # Linear Kernel\n",
    "clf.fit(xdual_train, ydual_train)\n",
    "y_pred = clf.predict(xdual_test)"
   ]
  },
  {
   "cell_type": "code",
   "execution_count": 14,
   "id": "eedf7cca",
   "metadata": {},
   "outputs": [
    {
     "name": "stdout",
     "output_type": "stream",
     "text": [
      "Accuracy: 0.9848484848484849\n",
      "Error: 0.015151515151515138\n"
     ]
    }
   ],
   "source": [
    "print(\"Accuracy:\",metrics.accuracy_score(ydual_test, y_pred))\n",
    "print(\"Error:\",1 - metrics.accuracy_score(ydual_test, y_pred))"
   ]
  },
  {
   "cell_type": "code",
   "execution_count": 15,
   "id": "137c0e7d",
   "metadata": {},
   "outputs": [],
   "source": [
    "#SUMMARY OF BINARY WITHOUT KERNELS"
   ]
  },
  {
   "cell_type": "code",
   "execution_count": 16,
   "id": "f88e1fa1",
   "metadata": {},
   "outputs": [],
   "source": [
    "#It looks like the errors and accuracy of our own SVM are similar to the accuarcy and errors of the SKlearn binary\n",
    "#SVM. We are off by about 5% for accuracy and error comparing each of these models."
   ]
  },
  {
   "cell_type": "code",
   "execution_count": null,
   "id": "f8735012",
   "metadata": {},
   "outputs": [],
   "source": []
  },
  {
   "cell_type": "code",
   "execution_count": 17,
   "id": "ea839277",
   "metadata": {},
   "outputs": [],
   "source": [
    "#Binary Classification with kernels"
   ]
  },
  {
   "cell_type": "code",
   "execution_count": 18,
   "id": "5a855a24",
   "metadata": {},
   "outputs": [],
   "source": [
    "#Polynomial"
   ]
  },
  {
   "cell_type": "code",
   "execution_count": 19,
   "id": "d0ad97c1",
   "metadata": {},
   "outputs": [],
   "source": [
    "cp = \"cp\"\n",
    "im = \"im\"\n",
    "\n",
    "whereiscp = np.where(Y==cp)[0]\n",
    "whereisim = np.where(Y==im)[0]\n",
    "\n",
    "indxcpim = np.concatenate((whereiscp,whereisim))\n",
    "\n",
    "Xcpim = X[indxcpim]\n",
    "Ycpim = np.ones(len(indxcpim))\n",
    "Ycpim[whereisim] =-1\n",
    "\n",
    "xdual_train, xdual_test, ydual_train, ydual_test = train_test_split(Xcpim, Ycpim, test_size = 0.30, random_state=46)"
   ]
  },
  {
   "cell_type": "code",
   "execution_count": 20,
   "id": "64689d51",
   "metadata": {},
   "outputs": [],
   "source": [
    "#Creating Classifier\n",
    "N = len(ydual_train)\n",
    "XPY = xdual_train.copy()\n",
    "for i in range(N):\n",
    "    if ydual_train[i]==-1:\n",
    "        XPY[i,:] =-1 * XPY[i,:]   \n",
    "\n",
    "A = (np.matmul(XPY,XPY.transpose())+1)**2\n",
    "\n",
    "YM = np.outer(ydual_train[1:],ydual_train[1:])\n",
    "AY = np.outer(A[0,1:],ydual_train[1:])\n",
    "YA = np.outer(ydual_train[1:],A[0,1:])\n",
    "\n",
    "\n",
    "Y0S = ydual_train[0]**2\n",
    "M = A[1:,1:] + A[0,0]*YM/Y0S - AY/ydual_train[0] - YA/ydual_train[0]\n",
    "    \n",
    "aw = np.zeros(N)\n",
    "\n",
    "bright = np.zeros(N)\n",
    "bright = 1 - ydual_train/ydual_train[0]\n",
    "\n",
    "adiag = np.diagonal(A)\n",
    "t1    = A[0,0]\n",
    "t2    = 2*np.multiply(A[0,:],ydual_train)/ydual_train[0]\n",
    "t3    = adiag + t1 - t2\n",
    "indxnzero = np.where(t3 != 0)\n",
    "aw[indxnzero[0]]    = np.divide(bright[indxnzero],t3[indxnzero])\n",
    "aw[0] =-sum(ydual_train[indxnzero]*aw[indxnzero])/ydual_train[0]\n",
    "    \n",
    "YA = np.zeros(N)\n",
    "YA[0] = ydual_train[0]*aw[0]\n",
    "YA[indxnzero] = ydual_train[indxnzero]*aw[indxnzero]\n",
    "wght = sum(xdual_train * YA[:,None])\n",
    "b =sum(ydual_train - np.matmul(xdual_train,wght))/N"
   ]
  },
  {
   "cell_type": "code",
   "execution_count": 21,
   "id": "7f401c1c",
   "metadata": {},
   "outputs": [],
   "source": [
    "#Creating fit\n",
    "yfit = np.matmul(xdual_test,wght) + b\n",
    "yfitsign = np.sign(yfit)\n",
    "ydiff = yfitsign - np.asfarray(ydual_test)\n",
    "wherediff = np.where(ydiff != 0)"
   ]
  },
  {
   "cell_type": "code",
   "execution_count": 22,
   "id": "bde00ce3",
   "metadata": {},
   "outputs": [
    {
     "name": "stdout",
     "output_type": "stream",
     "text": [
      "Accuracy =  0.9393939393939394\n",
      "Error =  0.06060606060606061\n"
     ]
    }
   ],
   "source": [
    "print(\"Accuracy = \", 1- len(wherediff[0])/len(ydual_test))\n",
    "print(\"Error = \", len(wherediff[0])/len(ydual_test))"
   ]
  },
  {
   "cell_type": "code",
   "execution_count": 23,
   "id": "b4d0fbd3",
   "metadata": {},
   "outputs": [],
   "source": [
    "#Polynomial sklearn"
   ]
  },
  {
   "cell_type": "code",
   "execution_count": 24,
   "id": "65a0f8af",
   "metadata": {},
   "outputs": [],
   "source": [
    "clf = svm.SVC(kernel='poly')\n",
    "clf.fit(xdual_train,ydual_train)\n",
    "y_pred = clf.predict(xdual_test)"
   ]
  },
  {
   "cell_type": "code",
   "execution_count": 25,
   "id": "f9f0086f",
   "metadata": {},
   "outputs": [
    {
     "name": "stdout",
     "output_type": "stream",
     "text": [
      "Accuracy: 0.9848484848484849\n",
      "Error: 0.015151515151515138\n"
     ]
    }
   ],
   "source": [
    "print(\"Accuracy:\",metrics.accuracy_score(ydual_test, y_pred))\n",
    "print(\"Error:\",1 - metrics.accuracy_score(ydual_test, y_pred))"
   ]
  },
  {
   "cell_type": "code",
   "execution_count": 26,
   "id": "37eccfd6",
   "metadata": {},
   "outputs": [],
   "source": [
    "#SUMMARY OF BINARY WITH POLYNOMIAL KERNEL"
   ]
  },
  {
   "cell_type": "code",
   "execution_count": 27,
   "id": "652b8469",
   "metadata": {},
   "outputs": [],
   "source": [
    "#It looks like our own binary SVM with a polynomial kernel has similar Accuracy and Error as the SKlearn polynomial\n",
    "#SVM. As we can see our own accuracy stayed the same with the addition of the polynomial, and the skleanr accuracy  \n",
    "#also stayed the same as before."
   ]
  },
  {
   "cell_type": "code",
   "execution_count": null,
   "id": "a28383b6",
   "metadata": {},
   "outputs": [],
   "source": []
  },
  {
   "cell_type": "code",
   "execution_count": 28,
   "id": "40b44b4a",
   "metadata": {},
   "outputs": [],
   "source": [
    "#Radial"
   ]
  },
  {
   "cell_type": "code",
   "execution_count": 29,
   "id": "2ab3fb14",
   "metadata": {},
   "outputs": [],
   "source": [
    "cp = \"cp\"\n",
    "im = \"im\"\n",
    "\n",
    "whereiscp = np.where(Y==cp)[0]\n",
    "whereisim = np.where(Y==im)[0]\n",
    "\n",
    "indxcpim = np.concatenate((whereiscp,whereisim))\n",
    "\n",
    "Xcpim = X[indxcpim]\n",
    "Ycpim = np.ones(len(indxcpim))\n",
    "Ycpim[whereisim] =-1\n",
    "\n",
    "xdual_train, xdual_test, ydual_train, ydual_test = train_test_split(Xcpim, Ycpim, test_size = 0.30, random_state=46)"
   ]
  },
  {
   "cell_type": "code",
   "execution_count": 30,
   "id": "8d1bf806",
   "metadata": {},
   "outputs": [],
   "source": [
    "#Creating Classifier\n",
    "N = len(ydual_train)\n",
    "XPY = xdual_train.copy()\n",
    "for i in range(N):\n",
    "    if ydual_train[i]==-1:\n",
    "        XPY[i,:] =-1 * XPY[i,:]   \n",
    "\n",
    "A = np.exp(-(LA.norm(XPY-XPY)**2)/np.var(XPY))\n",
    "\n",
    "#YM = np.outer(ydual_train[1:],ydual_train[1:])\n",
    "#AY = np.outer(A[0,1:],ydual_train[1:])\n",
    "#YA = np.outer(ydual_train[1:],A[0,1:])\n",
    "\n",
    "\n",
    "#Y0S = ydual_train[0]**2\n",
    "#M = A[1:,1:] + A[0,0]*YM/Y0S - AY/ydual_train[0] - YA/ydual_train[0]\n",
    "    \n",
    "aw = np.zeros(N)\n",
    "\n",
    "bright = np.zeros(N)\n",
    "bright = 1 - ydual_train/ydual_train[0]\n",
    "\n",
    "adiag = A\n",
    "t1    = A\n",
    "t2    = 2*np.multiply(A,ydual_train)/ydual_train[0]\n",
    "t3    = adiag + t1 - t2\n",
    "indxnzero = np.where(t3 != 0)\n",
    "aw[indxnzero[0]]    = np.divide(bright[indxnzero],t3[indxnzero])\n",
    "aw[0] =-sum(ydual_train[indxnzero]*aw[indxnzero])/ydual_train[0]\n",
    "    \n",
    "YA = np.zeros(N)\n",
    "YA[0] = ydual_train[0]*aw[0]\n",
    "YA[indxnzero] = ydual_train[indxnzero]*aw[indxnzero]\n",
    "wght = sum(xdual_train * YA[:,None])\n",
    "b =sum(ydual_train - np.matmul(xdual_train,wght))/N"
   ]
  },
  {
   "cell_type": "code",
   "execution_count": 31,
   "id": "ced760b3",
   "metadata": {},
   "outputs": [],
   "source": [
    "#Creating fit\n",
    "yfit = np.matmul(xdual_test,wght) + b\n",
    "yfitsign = np.sign(yfit)\n",
    "ydiff = yfitsign - np.asfarray(ydual_test)\n",
    "wherediff = np.where(ydiff != 0)"
   ]
  },
  {
   "cell_type": "code",
   "execution_count": 32,
   "id": "06949051",
   "metadata": {},
   "outputs": [
    {
     "name": "stdout",
     "output_type": "stream",
     "text": [
      "Accuracy =  0.9545454545454546\n",
      "Error =  0.045454545454545456\n"
     ]
    }
   ],
   "source": [
    "print(\"Accuracy = \", 1- len(wherediff[0])/len(ydual_test))\n",
    "print(\"Error = \", len(wherediff[0])/len(ydual_test))"
   ]
  },
  {
   "cell_type": "code",
   "execution_count": 33,
   "id": "16294526",
   "metadata": {},
   "outputs": [],
   "source": [
    "#Radial Sklearn"
   ]
  },
  {
   "cell_type": "code",
   "execution_count": 34,
   "id": "bca190d6",
   "metadata": {},
   "outputs": [],
   "source": [
    "clf = svm.SVC(kernel='rbf')\n",
    "clf.fit(xdual_train,ydual_train)\n",
    "y_pred = clf.predict(xdual_test)"
   ]
  },
  {
   "cell_type": "code",
   "execution_count": 35,
   "id": "57294cee",
   "metadata": {},
   "outputs": [
    {
     "name": "stdout",
     "output_type": "stream",
     "text": [
      "Accuracy: 1.0\n",
      "Error: 0.0\n"
     ]
    }
   ],
   "source": [
    "print(\"Accuracy:\",metrics.accuracy_score(ydual_test, y_pred))\n",
    "print(\"Error:\",1 - metrics.accuracy_score(ydual_test, y_pred))"
   ]
  },
  {
   "cell_type": "code",
   "execution_count": 36,
   "id": "bde50a74",
   "metadata": {},
   "outputs": [],
   "source": [
    "#SUMMARY OF BINARY WITH RADIAL KERNEL"
   ]
  },
  {
   "cell_type": "code",
   "execution_count": 37,
   "id": "89153107",
   "metadata": {},
   "outputs": [],
   "source": [
    "# We again have very similar Accuracy and Error rates between sklearn and our own version of Binary with a radial\n",
    "#kernel. For our own version we see that the accuracy increased with the addition of the radial kernel, \n",
    "# The accuracy of the radial sklearn model alo increased which it ended up having a perfect accuracy."
   ]
  },
  {
   "cell_type": "code",
   "execution_count": null,
   "id": "524e82e1",
   "metadata": {},
   "outputs": [],
   "source": []
  },
  {
   "cell_type": "code",
   "execution_count": 38,
   "id": "da1981ed",
   "metadata": {},
   "outputs": [],
   "source": [
    "#Multiclass Classification without kernels"
   ]
  },
  {
   "cell_type": "code",
   "execution_count": 39,
   "id": "ed125d5f",
   "metadata": {},
   "outputs": [],
   "source": [
    "results = np.array([])"
   ]
  },
  {
   "cell_type": "code",
   "execution_count": 40,
   "id": "c0ddc69d",
   "metadata": {},
   "outputs": [],
   "source": [
    "#CP vs all"
   ]
  },
  {
   "cell_type": "code",
   "execution_count": 41,
   "id": "5dc9f9a5",
   "metadata": {},
   "outputs": [],
   "source": [
    "def cpvsall(X,Y):\n",
    "    #Creating data\n",
    "    cp = 'cp'\n",
    "    im = 'im'\n",
    "    ms = \"mS\"\n",
    "    ml = \"mL\"\n",
    "    mu = \"mU\"\n",
    "    om = \"om\"\n",
    "    pp = \"pp\"\n",
    "\n",
    "\n",
    "    whereiscp = np.where(Y==cp)[0]\n",
    "    whereisim = np.where(Y==im)[0]\n",
    "    whereisms = np.where(Y==ms)[0]\n",
    "    whereisml = np.where(Y==ml)[0]\n",
    "    whereismu = np.where(Y==mu)[0]\n",
    "    whereisom = np.where(Y==om)[0]\n",
    "    whereispp = np.where(Y==pp)[0]\n",
    "\n",
    "    indxall = np.concatenate((whereiscp,whereisim,whereisms,whereisml,whereismu,whereisom,whereispp))\n",
    "    \n",
    "    Xall = X[indxall]\n",
    "    Yall = np.ones(len(indxall))\n",
    "    Yall[whereisim] =-1\n",
    "    Yall[whereisms] =-1\n",
    "    Yall[whereisml] =-1\n",
    "    Yall[whereismu] =-1\n",
    "    Yall[whereisom] =-1\n",
    "    Yall[whereispp] =-1\n",
    "\n",
    "    xdual_train, xdual_test, ydual_train, ydual_test = train_test_split(Xall, Yall, test_size = 0.15, random_state=46)\n",
    "    \n",
    "    #Creating Classifier\n",
    "    N = len(ydual_train)\n",
    "    XPY = xdual_train.copy()\n",
    "    for i in range(N):\n",
    "       if ydual_train[i]==-1:\n",
    "          XPY[i,:] =-1 * XPY[i,:]   \n",
    "\n",
    "    A = np.matmul(XPY,XPY.transpose())\n",
    "\n",
    "    YM = np.outer(ydual_train[1:],ydual_train[1:])\n",
    "    AY = np.outer(A[0,1:],ydual_train[1:])\n",
    "    YA = np.outer(ydual_train[1:],A[0,1:])\n",
    "\n",
    "\n",
    "    Y0S = ydual_train[0]**2\n",
    "    M = A[1:,1:] + A[0,0]*YM/Y0S - AY/ydual_train[0] - YA/ydual_train[0]\n",
    "    \n",
    "    aw = np.zeros(N)\n",
    "\n",
    "    bright = np.zeros(N)\n",
    "    bright = 1 - ydual_train/ydual_train[0]\n",
    "\n",
    "    adiag = np.diagonal(A)\n",
    "    t1    = A[0,0]\n",
    "    t2    = 2*np.multiply(A[0,:],ydual_train)/ydual_train[0]\n",
    "    t3    = adiag + t1 - t2\n",
    "    indxnzero = np.where(t3 != 0)\n",
    "    aw[indxnzero[0]]    = np.divide(bright[indxnzero],t3[indxnzero])\n",
    "    aw[0] =-sum(ydual_train[indxnzero]*aw[indxnzero])/ydual_train[0]\n",
    "    \n",
    "    YA = np.zeros(N)\n",
    "    YA[0] = ydual_train[0]*aw[0]\n",
    "    YA[indxnzero] = ydual_train[indxnzero]*aw[indxnzero]\n",
    "    wght = sum(xdual_train * YA[:,None])\n",
    "    b =sum(ydual_train - np.matmul(xdual_train,wght))/N\n",
    "    \n",
    "    #Creating fit\n",
    "    yfit = np.matmul(xdual_test,wght) + b\n",
    "    yfitsign = np.sign(yfit)\n",
    "    ydiff = yfitsign - np.asfarray(ydual_test)\n",
    "    wherediff = np.where(ydiff != 0)\n",
    "    \n",
    "    return wherediff[0], wght, ydual_test, b"
   ]
  },
  {
   "cell_type": "code",
   "execution_count": 42,
   "id": "b0ce6822",
   "metadata": {},
   "outputs": [],
   "source": [
    "cpwherediff, cpwght, cpydual_test, cpb = cpvsall(X,Y)"
   ]
  },
  {
   "cell_type": "code",
   "execution_count": 43,
   "id": "5f4265f8",
   "metadata": {},
   "outputs": [
    {
     "name": "stdout",
     "output_type": "stream",
     "text": [
      "0.1568627450980392\n"
     ]
    }
   ],
   "source": [
    "print(len(cpwherediff)/len(cpydual_test))"
   ]
  },
  {
   "cell_type": "code",
   "execution_count": 44,
   "id": "49feba32",
   "metadata": {},
   "outputs": [],
   "source": [
    "#creating fit on main test for cp"
   ]
  },
  {
   "cell_type": "code",
   "execution_count": 45,
   "id": "a6c7730d",
   "metadata": {},
   "outputs": [],
   "source": [
    "cpx_test = x_test[np.where(y_test == \"cp\")[0]]\n",
    "cpy_test = y_test[np.where(y_test == \"cp\")[0]]"
   ]
  },
  {
   "cell_type": "code",
   "execution_count": 46,
   "id": "5e56d7bc",
   "metadata": {},
   "outputs": [
    {
     "name": "stdout",
     "output_type": "stream",
     "text": [
      "[1 1 -1 1 1 -1 -1 1 1 1 1 1 1 1 1 1 1 1 1 1 1 1 1 1 1 1 1 1 1]\n",
      "['cp' 'cp' 'cp' 'cp' 'cp' 'cp' 'cp' 'cp' 'cp' 'cp' 'cp' 'cp' 'cp' 'cp'\n",
      " 'cp' 'cp' 'cp' 'cp' 'cp' 'cp' 'cp' 'cp' 'cp' 'cp' 'cp' 'cp' 'cp' 'cp'\n",
      " 'cp']\n"
     ]
    }
   ],
   "source": [
    "cpyfit = np.matmul(cpx_test,cpwght) + cpb\n",
    "cpyfitsign = np.sign(cpyfit)\n",
    "print(cpyfitsign)\n",
    "print(cpy_test)"
   ]
  },
  {
   "cell_type": "code",
   "execution_count": 47,
   "id": "610da199",
   "metadata": {},
   "outputs": [],
   "source": [
    "results = np.append(results,cpyfitsign)"
   ]
  },
  {
   "cell_type": "code",
   "execution_count": 48,
   "id": "e8238ce2",
   "metadata": {},
   "outputs": [],
   "source": [
    "#im vs all"
   ]
  },
  {
   "cell_type": "code",
   "execution_count": 49,
   "id": "4805e2d2",
   "metadata": {},
   "outputs": [],
   "source": [
    "def imvsall(X,Y):\n",
    "    #Creating data\n",
    "    cp = 'cp'\n",
    "    im = 'im'\n",
    "    ms = \"mS\"\n",
    "    ml = \"mL\"\n",
    "    mu = \"mU\"\n",
    "    om = \"om\"\n",
    "    pp = \"pp\"\n",
    "\n",
    "\n",
    "    whereiscp = np.where(Y==cp)[0]\n",
    "    whereisim = np.where(Y==im)[0]\n",
    "    whereisms = np.where(Y==ms)[0]\n",
    "    whereisml = np.where(Y==ml)[0]\n",
    "    whereismu = np.where(Y==mu)[0]\n",
    "    whereisom = np.where(Y==om)[0]\n",
    "    whereispp = np.where(Y==pp)[0]\n",
    "\n",
    "    indxall = np.concatenate((whereiscp,whereisim,whereisms,whereisml,whereismu,whereisom,whereispp))\n",
    "    \n",
    "    Xall = X[indxall]\n",
    "    Yall = np.ones(len(indxall))\n",
    "    Yall[whereiscp] =-1\n",
    "    Yall[whereisms] =-1\n",
    "    Yall[whereisml] =-1\n",
    "    Yall[whereismu] =-1\n",
    "    Yall[whereisom] =-1\n",
    "    Yall[whereispp] =-1\n",
    "\n",
    "    xdual_train, xdual_test, ydual_train, ydual_test = train_test_split(Xall, Yall, test_size = 0.15, random_state=46)\n",
    "    \n",
    "    #Creating Classifier\n",
    "    N = len(ydual_train)\n",
    "    XPY = xdual_train.copy()\n",
    "    for i in range(N):\n",
    "       if ydual_train[i]==-1:\n",
    "          XPY[i,:] =-1 * XPY[i,:]   \n",
    "\n",
    "    A = np.matmul(XPY,XPY.transpose())\n",
    "\n",
    "    YM = np.outer(ydual_train[1:],ydual_train[1:])\n",
    "    AY = np.outer(A[0,1:],ydual_train[1:])\n",
    "    YA = np.outer(ydual_train[1:],A[0,1:])\n",
    "\n",
    "\n",
    "    Y0S = ydual_train[0]**2\n",
    "    M = A[1:,1:] + A[0,0]*YM/Y0S - AY/ydual_train[0] - YA/ydual_train[0]\n",
    "    \n",
    "    aw = np.zeros(N)\n",
    "\n",
    "    bright = np.zeros(N)\n",
    "    bright = 1 - ydual_train/ydual_train[0]\n",
    "\n",
    "    adiag = np.diagonal(A)\n",
    "    t1    = A[0,0]\n",
    "    t2    = 2*np.multiply(A[0,:],ydual_train)/ydual_train[0]\n",
    "    t3    = adiag + t1 - t2\n",
    "    indxnzero = np.where(t3 != 0)\n",
    "    aw[indxnzero[0]]    = np.divide(bright[indxnzero],t3[indxnzero])\n",
    "    aw[0] =-sum(ydual_train[indxnzero]*aw[indxnzero])/ydual_train[0]\n",
    "    \n",
    "    YA = np.zeros(N)\n",
    "    YA[0] = ydual_train[0]*aw[0]\n",
    "    YA[indxnzero] = ydual_train[indxnzero]*aw[indxnzero]\n",
    "    wght = sum(xdual_train * YA[:,None])\n",
    "    b =sum(ydual_train - np.matmul(xdual_train,wght))/N\n",
    "    \n",
    "    #Creating fit\n",
    "    yfit = np.matmul(xdual_test,wght) + b\n",
    "    yfitsign = np.sign(yfit)\n",
    "    ydiff = yfitsign - np.asfarray(ydual_test)\n",
    "    wherediff = np.where(ydiff != 0)\n",
    "    \n",
    "    return wherediff[0], wght, ydual_test, b"
   ]
  },
  {
   "cell_type": "code",
   "execution_count": 50,
   "id": "a8d8f349",
   "metadata": {},
   "outputs": [],
   "source": [
    "imwherediff, imwght, imydual_test, imb = imvsall(X,Y)"
   ]
  },
  {
   "cell_type": "code",
   "execution_count": 51,
   "id": "589c8a11",
   "metadata": {},
   "outputs": [
    {
     "name": "stdout",
     "output_type": "stream",
     "text": [
      "0.19607843137254902\n"
     ]
    }
   ],
   "source": [
    "print(len(imwherediff)/len(imydual_test))"
   ]
  },
  {
   "cell_type": "code",
   "execution_count": 52,
   "id": "8bf5c79f",
   "metadata": {},
   "outputs": [],
   "source": [
    "#creating fit on main test for im"
   ]
  },
  {
   "cell_type": "code",
   "execution_count": 53,
   "id": "37cda7a9",
   "metadata": {},
   "outputs": [],
   "source": [
    "imx_test = x_test[np.where(y_test == \"im\")[0]]\n",
    "imy_test = y_test[np.where(y_test == \"im\")[0]]"
   ]
  },
  {
   "cell_type": "code",
   "execution_count": 54,
   "id": "218cfab0",
   "metadata": {},
   "outputs": [
    {
     "name": "stdout",
     "output_type": "stream",
     "text": [
      "[1 1 1 1 -1 1 1 1]\n",
      "['im' 'im' 'im' 'im' 'im' 'im' 'im' 'im']\n"
     ]
    }
   ],
   "source": [
    "imyfit = np.matmul(imx_test,imwght) + imb\n",
    "imyfitsign = np.sign(imyfit)\n",
    "print(imyfitsign)\n",
    "print(imy_test)"
   ]
  },
  {
   "cell_type": "code",
   "execution_count": 55,
   "id": "9c62c09b",
   "metadata": {},
   "outputs": [],
   "source": [
    "results = np.append(results,imyfitsign)"
   ]
  },
  {
   "cell_type": "code",
   "execution_count": 56,
   "id": "80f7806b",
   "metadata": {},
   "outputs": [],
   "source": [
    "#ms va all"
   ]
  },
  {
   "cell_type": "code",
   "execution_count": 57,
   "id": "61c1ecce",
   "metadata": {},
   "outputs": [],
   "source": [
    "def msvsall(X,Y):\n",
    "    #Creating data\n",
    "    cp = 'cp'\n",
    "    im = 'im'\n",
    "    ms = \"mS\"\n",
    "    ml = \"mL\"\n",
    "    mu = \"mU\"\n",
    "    om = \"om\"\n",
    "    pp = \"pp\"\n",
    "\n",
    "\n",
    "    whereiscp = np.where(Y==cp)[0]\n",
    "    whereisim = np.where(Y==im)[0]\n",
    "    whereisms = np.where(Y==ms)[0]\n",
    "    whereisml = np.where(Y==ml)[0]\n",
    "    whereismu = np.where(Y==mu)[0]\n",
    "    whereisom = np.where(Y==om)[0]\n",
    "    whereispp = np.where(Y==pp)[0]\n",
    "\n",
    "    indxall = np.concatenate((whereiscp,whereisim,whereisms,whereisml,whereismu,whereisom,whereispp))\n",
    "    \n",
    "    Xall = X[indxall]\n",
    "    Yall = np.ones(len(indxall))\n",
    "    Yall[whereiscp] =-1\n",
    "    Yall[whereisim] =-1\n",
    "    Yall[whereisml] =-1\n",
    "    Yall[whereismu] =-1\n",
    "    Yall[whereisom] =-1\n",
    "    Yall[whereispp] =-1\n",
    "\n",
    "    xdual_train, xdual_test, ydual_train, ydual_test = train_test_split(Xall, Yall, test_size = 0.15, random_state=46)\n",
    "    \n",
    "    #Creating Classifier\n",
    "    N = len(ydual_train)\n",
    "    XPY = xdual_train.copy()\n",
    "    for i in range(N):\n",
    "       if ydual_train[i]==-1:\n",
    "          XPY[i,:] =-1 * XPY[i,:]   \n",
    "\n",
    "    A = np.matmul(XPY,XPY.transpose())\n",
    "\n",
    "    YM = np.outer(ydual_train[1:],ydual_train[1:])\n",
    "    AY = np.outer(A[0,1:],ydual_train[1:])\n",
    "    YA = np.outer(ydual_train[1:],A[0,1:])\n",
    "\n",
    "\n",
    "    Y0S = ydual_train[0]**2\n",
    "    M = A[1:,1:] + A[0,0]*YM/Y0S - AY/ydual_train[0] - YA/ydual_train[0]\n",
    "    \n",
    "    aw = np.zeros(N)\n",
    "\n",
    "    bright = np.zeros(N)\n",
    "    bright = 1 - ydual_train/ydual_train[0]\n",
    "\n",
    "    adiag = np.diagonal(A)\n",
    "    t1    = A[0,0]\n",
    "    t2    = 2*np.multiply(A[0,:],ydual_train)/ydual_train[0]\n",
    "    t3    = adiag + t1 - t2\n",
    "    indxnzero = np.where(t3 != 0)\n",
    "    aw[indxnzero[0]]    = np.divide(bright[indxnzero],t3[indxnzero])\n",
    "    aw[0] =-sum(ydual_train[indxnzero]*aw[indxnzero])/ydual_train[0]\n",
    "    \n",
    "    YA = np.zeros(N)\n",
    "    YA[0] = ydual_train[0]*aw[0]\n",
    "    YA[indxnzero] = ydual_train[indxnzero]*aw[indxnzero]\n",
    "    wght = sum(xdual_train * YA[:,None])\n",
    "    b =sum(ydual_train - np.matmul(xdual_train,wght))/N\n",
    "    \n",
    "    #Creating fit\n",
    "    yfit = np.matmul(xdual_test,wght) + b\n",
    "    yfitsign = np.sign(yfit)\n",
    "    ydiff = yfitsign - np.asfarray(ydual_test)\n",
    "    wherediff = np.where(ydiff != 0)\n",
    "    \n",
    "    return wherediff[0], wght, ydual_test, b"
   ]
  },
  {
   "cell_type": "code",
   "execution_count": 58,
   "id": "583ac83a",
   "metadata": {},
   "outputs": [],
   "source": [
    "mswherediff, mswght, msydual_test, msb = msvsall(X,Y)"
   ]
  },
  {
   "cell_type": "code",
   "execution_count": 59,
   "id": "6f008a06",
   "metadata": {},
   "outputs": [
    {
     "name": "stdout",
     "output_type": "stream",
     "text": [
      "0.19607843137254902\n"
     ]
    }
   ],
   "source": [
    "print(len(mswherediff)/len(msydual_test))"
   ]
  },
  {
   "cell_type": "code",
   "execution_count": 60,
   "id": "276a16c0",
   "metadata": {},
   "outputs": [],
   "source": [
    "#creating fit on main test for ms"
   ]
  },
  {
   "cell_type": "code",
   "execution_count": 61,
   "id": "f9d6df80",
   "metadata": {},
   "outputs": [],
   "source": [
    "msx_test = x_test[np.where(y_test == \"mS\")[0]]\n",
    "msy_test = y_test[np.where(y_test == \"mS\")[0]]"
   ]
  },
  {
   "cell_type": "code",
   "execution_count": 62,
   "id": "f3c57f38",
   "metadata": {},
   "outputs": [
    {
     "name": "stdout",
     "output_type": "stream",
     "text": [
      "[]\n",
      "[]\n"
     ]
    }
   ],
   "source": [
    "msyfit = np.matmul(msx_test,mswght) + msb\n",
    "msyfitsign = np.sign(msyfit)\n",
    "print(msyfitsign)\n",
    "print(msy_test)"
   ]
  },
  {
   "cell_type": "code",
   "execution_count": 63,
   "id": "2a742cb8",
   "metadata": {},
   "outputs": [],
   "source": [
    "results = np.append(results,msyfitsign)"
   ]
  },
  {
   "cell_type": "code",
   "execution_count": 64,
   "id": "030b8122",
   "metadata": {},
   "outputs": [],
   "source": [
    "#ml vs all"
   ]
  },
  {
   "cell_type": "code",
   "execution_count": 65,
   "id": "f4899241",
   "metadata": {},
   "outputs": [],
   "source": [
    "def mlvsall(X,Y):\n",
    "    #Creating data\n",
    "    cp = 'cp'\n",
    "    im = 'im'\n",
    "    ms = \"mS\"\n",
    "    ml = \"mL\"\n",
    "    mu = \"mU\"\n",
    "    om = \"om\"\n",
    "    pp = \"pp\"\n",
    "\n",
    "\n",
    "    whereiscp = np.where(Y==cp)[0]\n",
    "    whereisim = np.where(Y==im)[0]\n",
    "    whereisms = np.where(Y==ms)[0]\n",
    "    whereisml = np.where(Y==ml)[0]\n",
    "    whereismu = np.where(Y==mu)[0]\n",
    "    whereisom = np.where(Y==om)[0]\n",
    "    whereispp = np.where(Y==pp)[0]\n",
    "\n",
    "    indxall = np.concatenate((whereiscp,whereisim,whereisms,whereisml,whereismu,whereisom,whereispp))\n",
    "    \n",
    "    Xall = X[indxall]\n",
    "    Yall = np.ones(len(indxall))\n",
    "    Yall[whereiscp] =-1\n",
    "    Yall[whereisim] =-1\n",
    "    Yall[whereisms] =-1\n",
    "    Yall[whereismu] =-1\n",
    "    Yall[whereisom] =-1\n",
    "    Yall[whereispp] =-1\n",
    "\n",
    "    xdual_train, xdual_test, ydual_train, ydual_test = train_test_split(Xall, Yall, test_size = 0.15, random_state=46)\n",
    "    \n",
    "    #Creating Classifier\n",
    "    N = len(ydual_train)\n",
    "    XPY = xdual_train.copy()\n",
    "    for i in range(N):\n",
    "       if ydual_train[i]==-1:\n",
    "          XPY[i,:] =-1 * XPY[i,:]   \n",
    "\n",
    "    A = np.matmul(XPY,XPY.transpose())\n",
    "\n",
    "    YM = np.outer(ydual_train[1:],ydual_train[1:])\n",
    "    AY = np.outer(A[0,1:],ydual_train[1:])\n",
    "    YA = np.outer(ydual_train[1:],A[0,1:])\n",
    "\n",
    "\n",
    "    Y0S = ydual_train[0]**2\n",
    "    M = A[1:,1:] + A[0,0]*YM/Y0S - AY/ydual_train[0] - YA/ydual_train[0]\n",
    "    \n",
    "    aw = np.zeros(N)\n",
    "\n",
    "    bright = np.zeros(N)\n",
    "    bright = 1 - ydual_train/ydual_train[0]\n",
    "\n",
    "    adiag = np.diagonal(A)\n",
    "    t1    = A[0,0]\n",
    "    t2    = 2*np.multiply(A[0,:],ydual_train)/ydual_train[0]\n",
    "    t3    = adiag + t1 - t2\n",
    "    indxnzero = np.where(t3 != 0)\n",
    "    aw[indxnzero[0]]    = np.divide(bright[indxnzero],t3[indxnzero])\n",
    "    aw[0] =-sum(ydual_train[indxnzero]*aw[indxnzero])/ydual_train[0]\n",
    "    \n",
    "    YA = np.zeros(N)\n",
    "    YA[0] = ydual_train[0]*aw[0]\n",
    "    YA[indxnzero] = ydual_train[indxnzero]*aw[indxnzero]\n",
    "    wght = sum(xdual_train * YA[:,None])\n",
    "    b =sum(ydual_train - np.matmul(xdual_train,wght))/N\n",
    "    \n",
    "    #Creating fit\n",
    "    yfit = np.matmul(xdual_test,wght) + b\n",
    "    yfitsign = np.sign(yfit)\n",
    "    ydiff = yfitsign - np.asfarray(ydual_test)\n",
    "    wherediff = np.where(ydiff != 0)\n",
    "    \n",
    "    return wherediff[0], wght, ydual_test, b"
   ]
  },
  {
   "cell_type": "code",
   "execution_count": 66,
   "id": "0783ae7e",
   "metadata": {},
   "outputs": [],
   "source": [
    "mlwherediff, mlwght, mlydual_test, mlb = mlvsall(X,Y)"
   ]
  },
  {
   "cell_type": "code",
   "execution_count": 67,
   "id": "66ef922a",
   "metadata": {},
   "outputs": [
    {
     "name": "stdout",
     "output_type": "stream",
     "text": [
      "0.3137254901960784\n"
     ]
    }
   ],
   "source": [
    "print(len(mlwherediff)/len(mlydual_test))"
   ]
  },
  {
   "cell_type": "code",
   "execution_count": 68,
   "id": "99ffef42",
   "metadata": {},
   "outputs": [],
   "source": [
    "#creating fit on main test for ml"
   ]
  },
  {
   "cell_type": "code",
   "execution_count": 69,
   "id": "bbf28e04",
   "metadata": {},
   "outputs": [],
   "source": [
    "mlx_test = x_test[np.where(y_test == \"mL\")[0]]\n",
    "mly_test = y_test[np.where(y_test == \"mL\")[0]]"
   ]
  },
  {
   "cell_type": "code",
   "execution_count": 70,
   "id": "ff3a4143",
   "metadata": {},
   "outputs": [
    {
     "name": "stdout",
     "output_type": "stream",
     "text": [
      "[1]\n",
      "['mL']\n"
     ]
    }
   ],
   "source": [
    "mlyfit = np.matmul(mlx_test,mlwght) + mlb\n",
    "mlyfitsign = np.sign(mlyfit)\n",
    "print(mlyfitsign)\n",
    "print(mly_test)"
   ]
  },
  {
   "cell_type": "code",
   "execution_count": 71,
   "id": "bea91736",
   "metadata": {},
   "outputs": [],
   "source": [
    "results = np.append(results,mlyfitsign)"
   ]
  },
  {
   "cell_type": "code",
   "execution_count": 72,
   "id": "ea1bc608",
   "metadata": {},
   "outputs": [],
   "source": [
    "#mu vs all"
   ]
  },
  {
   "cell_type": "code",
   "execution_count": 73,
   "id": "f6b9dde5",
   "metadata": {},
   "outputs": [],
   "source": [
    "def muvsall(X,Y):\n",
    "    #Creating data\n",
    "    cp = 'cp'\n",
    "    im = 'im'\n",
    "    ms = \"mS\"\n",
    "    ml = \"mL\"\n",
    "    mu = \"mU\"\n",
    "    om = \"om\"\n",
    "    pp = \"pp\"\n",
    "\n",
    "\n",
    "    whereiscp = np.where(Y==cp)[0]\n",
    "    whereisim = np.where(Y==im)[0]\n",
    "    whereisms = np.where(Y==ms)[0]\n",
    "    whereisml = np.where(Y==ml)[0]\n",
    "    whereismu = np.where(Y==mu)[0]\n",
    "    whereisom = np.where(Y==om)[0]\n",
    "    whereispp = np.where(Y==pp)[0]\n",
    "\n",
    "    indxall = np.concatenate((whereiscp,whereisim,whereisms,whereisml,whereismu,whereisom,whereispp))\n",
    "    \n",
    "    Xall = X[indxall]\n",
    "    Yall = np.ones(len(indxall))\n",
    "    Yall[whereiscp] =-1\n",
    "    Yall[whereisim] =-1\n",
    "    Yall[whereisms] =-1\n",
    "    Yall[whereisml] =-1\n",
    "    Yall[whereisom] =-1\n",
    "    Yall[whereispp] =-1\n",
    "\n",
    "    xdual_train, xdual_test, ydual_train, ydual_test = train_test_split(Xall, Yall, test_size = 0.15, random_state=46)\n",
    "    \n",
    "    #Creating Classifier\n",
    "    N = len(ydual_train)\n",
    "    XPY = xdual_train.copy()\n",
    "    for i in range(N):\n",
    "       if ydual_train[i]==-1:\n",
    "          XPY[i,:] =-1 * XPY[i,:]   \n",
    "\n",
    "    A = np.matmul(XPY,XPY.transpose())\n",
    "\n",
    "    YM = np.outer(ydual_train[1:],ydual_train[1:])\n",
    "    AY = np.outer(A[0,1:],ydual_train[1:])\n",
    "    YA = np.outer(ydual_train[1:],A[0,1:])\n",
    "\n",
    "\n",
    "    Y0S = ydual_train[0]**2\n",
    "    M = A[1:,1:] + A[0,0]*YM/Y0S - AY/ydual_train[0] - YA/ydual_train[0]\n",
    "    \n",
    "    aw = np.zeros(N)\n",
    "\n",
    "    bright = np.zeros(N)\n",
    "    bright = 1 - ydual_train/ydual_train[0]\n",
    "\n",
    "    adiag = np.diagonal(A)\n",
    "    t1    = A[0,0]\n",
    "    t2    = 2*np.multiply(A[0,:],ydual_train)/ydual_train[0]\n",
    "    t3    = adiag + t1 - t2\n",
    "    indxnzero = np.where(t3 != 0)\n",
    "    aw[indxnzero[0]]    = np.divide(bright[indxnzero],t3[indxnzero])\n",
    "    aw[0] =-sum(ydual_train[indxnzero]*aw[indxnzero])/ydual_train[0]\n",
    "    \n",
    "    YA = np.zeros(N)\n",
    "    YA[0] = ydual_train[0]*aw[0]\n",
    "    YA[indxnzero] = ydual_train[indxnzero]*aw[indxnzero]\n",
    "    wght = sum(xdual_train * YA[:,None])\n",
    "    b =sum(ydual_train - np.matmul(xdual_train,wght))/N\n",
    "    \n",
    "    #Creating fit\n",
    "    yfit = np.matmul(xdual_test,wght) + b\n",
    "    yfitsign = np.sign(yfit)\n",
    "    ydiff = yfitsign - np.asfarray(ydual_test)\n",
    "    wherediff = np.where(ydiff != 0)\n",
    "    \n",
    "    return wherediff[0], wght, ydual_test, b"
   ]
  },
  {
   "cell_type": "code",
   "execution_count": 74,
   "id": "94bbb73e",
   "metadata": {},
   "outputs": [],
   "source": [
    "muwherediff, muwght, muydual_test, mub = muvsall(X,Y)"
   ]
  },
  {
   "cell_type": "code",
   "execution_count": 75,
   "id": "48381b03",
   "metadata": {},
   "outputs": [
    {
     "name": "stdout",
     "output_type": "stream",
     "text": [
      "0.23529411764705882\n"
     ]
    }
   ],
   "source": [
    "print(len(muwherediff)/len(muydual_test))"
   ]
  },
  {
   "cell_type": "code",
   "execution_count": 76,
   "id": "154c90d7",
   "metadata": {},
   "outputs": [],
   "source": [
    "#creating fit on main test for mu"
   ]
  },
  {
   "cell_type": "code",
   "execution_count": 77,
   "id": "aefddaea",
   "metadata": {},
   "outputs": [],
   "source": [
    "mux_test = x_test[np.where(y_test == \"mU\")[0]]\n",
    "muy_test = y_test[np.where(y_test == \"mU\")[0]]"
   ]
  },
  {
   "cell_type": "code",
   "execution_count": 78,
   "id": "07729068",
   "metadata": {},
   "outputs": [
    {
     "name": "stdout",
     "output_type": "stream",
     "text": [
      "[1 1 1 1 1]\n",
      "['mU' 'mU' 'mU' 'mU' 'mU']\n"
     ]
    }
   ],
   "source": [
    "muyfit = np.matmul(mux_test,muwght) + mub\n",
    "muyfitsign = np.sign(muyfit)\n",
    "print(muyfitsign)\n",
    "print(muy_test)"
   ]
  },
  {
   "cell_type": "code",
   "execution_count": 79,
   "id": "04fcf13c",
   "metadata": {},
   "outputs": [],
   "source": [
    "results = np.append(results,muyfitsign)"
   ]
  },
  {
   "cell_type": "code",
   "execution_count": 80,
   "id": "9dcf77ab",
   "metadata": {},
   "outputs": [],
   "source": [
    "#om vs all"
   ]
  },
  {
   "cell_type": "code",
   "execution_count": 81,
   "id": "e28c8c2a",
   "metadata": {},
   "outputs": [],
   "source": [
    "def omvsall(X,Y):\n",
    "    #Creating data\n",
    "    cp = 'cp'\n",
    "    im = 'im'\n",
    "    ms = \"mS\"\n",
    "    ml = \"mL\"\n",
    "    mu = \"mU\"\n",
    "    om = \"om\"\n",
    "    pp = \"pp\"\n",
    "\n",
    "\n",
    "    whereiscp = np.where(Y==cp)[0]\n",
    "    whereisim = np.where(Y==im)[0]\n",
    "    whereisms = np.where(Y==ms)[0]\n",
    "    whereisml = np.where(Y==ml)[0]\n",
    "    whereismu = np.where(Y==mu)[0]\n",
    "    whereisom = np.where(Y==om)[0]\n",
    "    whereispp = np.where(Y==pp)[0]\n",
    "\n",
    "    indxall = np.concatenate((whereiscp,whereisim,whereisms,whereisml,whereismu,whereisom,whereispp))\n",
    "    \n",
    "    Xall = X[indxall]\n",
    "    Yall = np.ones(len(indxall))\n",
    "    Yall[whereiscp] =-1\n",
    "    Yall[whereisim] =-1\n",
    "    Yall[whereisms] =-1\n",
    "    Yall[whereisml] =-1\n",
    "    Yall[whereismu] =-1\n",
    "    Yall[whereispp] =-1\n",
    "\n",
    "    xdual_train, xdual_test, ydual_train, ydual_test = train_test_split(Xall, Yall, test_size = 0.15, random_state=46)\n",
    "    \n",
    "    #Creating Classifier\n",
    "    N = len(ydual_train)\n",
    "    XPY = xdual_train.copy()\n",
    "    for i in range(N):\n",
    "       if ydual_train[i]==-1:\n",
    "          XPY[i,:] =-1 * XPY[i,:]   \n",
    "\n",
    "    A = np.matmul(XPY,XPY.transpose())\n",
    "\n",
    "    YM = np.outer(ydual_train[1:],ydual_train[1:])\n",
    "    AY = np.outer(A[0,1:],ydual_train[1:])\n",
    "    YA = np.outer(ydual_train[1:],A[0,1:])\n",
    "\n",
    "\n",
    "    Y0S = ydual_train[0]**2\n",
    "    M = A[1:,1:] + A[0,0]*YM/Y0S - AY/ydual_train[0] - YA/ydual_train[0]\n",
    "    \n",
    "    aw = np.zeros(N)\n",
    "\n",
    "    bright = np.zeros(N)\n",
    "    bright = 1 - ydual_train/ydual_train[0]\n",
    "\n",
    "    adiag = np.diagonal(A)\n",
    "    t1    = A[0,0]\n",
    "    t2    = 2*np.multiply(A[0,:],ydual_train)/ydual_train[0]\n",
    "    t3    = adiag + t1 - t2\n",
    "    indxnzero = np.where(t3 != 0)\n",
    "    aw[indxnzero[0]]    = np.divide(bright[indxnzero],t3[indxnzero])\n",
    "    aw[0] =-sum(ydual_train[indxnzero]*aw[indxnzero])/ydual_train[0]\n",
    "    \n",
    "    YA = np.zeros(N)\n",
    "    YA[0] = ydual_train[0]*aw[0]\n",
    "    YA[indxnzero] = ydual_train[indxnzero]*aw[indxnzero]\n",
    "    wght = sum(xdual_train * YA[:,None])\n",
    "    b =sum(ydual_train - np.matmul(xdual_train,wght))/N\n",
    "    \n",
    "    #Creating fit\n",
    "    yfit = np.matmul(xdual_test,wght) + b\n",
    "    yfitsign = np.sign(yfit)\n",
    "    ydiff = yfitsign - np.asfarray(ydual_test)\n",
    "    wherediff = np.where(ydiff != 0)\n",
    "    \n",
    "    return wherediff[0], wght, ydual_test, b"
   ]
  },
  {
   "cell_type": "code",
   "execution_count": 82,
   "id": "59cec9df",
   "metadata": {},
   "outputs": [],
   "source": [
    "omwherediff, omwght, omydual_test, omb = omvsall(X,Y)"
   ]
  },
  {
   "cell_type": "code",
   "execution_count": 83,
   "id": "9b651890",
   "metadata": {},
   "outputs": [
    {
     "name": "stdout",
     "output_type": "stream",
     "text": [
      "0.35294117647058826\n"
     ]
    }
   ],
   "source": [
    "print(len(omwherediff)/len(omydual_test))"
   ]
  },
  {
   "cell_type": "code",
   "execution_count": 84,
   "id": "48b3d45d",
   "metadata": {},
   "outputs": [],
   "source": [
    "#creating fit on main test for om"
   ]
  },
  {
   "cell_type": "code",
   "execution_count": 85,
   "id": "aa1c15a2",
   "metadata": {},
   "outputs": [],
   "source": [
    "omx_test = x_test[np.where(y_test == \"om\")[0]]\n",
    "omy_test = y_test[np.where(y_test == \"om\")[0]]"
   ]
  },
  {
   "cell_type": "code",
   "execution_count": 86,
   "id": "76d67bce",
   "metadata": {},
   "outputs": [
    {
     "name": "stdout",
     "output_type": "stream",
     "text": [
      "[1 1]\n",
      "['om' 'om']\n"
     ]
    }
   ],
   "source": [
    "omyfit = np.matmul(omx_test,omwght) + omb\n",
    "omyfitsign = np.sign(omyfit)\n",
    "print(omyfitsign)\n",
    "print(omy_test)"
   ]
  },
  {
   "cell_type": "code",
   "execution_count": 87,
   "id": "7943f966",
   "metadata": {},
   "outputs": [],
   "source": [
    "results = np.append(results,omyfitsign)"
   ]
  },
  {
   "cell_type": "code",
   "execution_count": 88,
   "id": "0df54ae9",
   "metadata": {},
   "outputs": [],
   "source": [
    "# pp vs all"
   ]
  },
  {
   "cell_type": "code",
   "execution_count": 89,
   "id": "d9fa6086",
   "metadata": {},
   "outputs": [],
   "source": [
    "def ppvsall(X,Y):\n",
    "    #Creating data\n",
    "    cp = 'cp'\n",
    "    im = 'im'\n",
    "    ms = \"mS\"\n",
    "    ml = \"mL\"\n",
    "    mu = \"mU\"\n",
    "    om = \"om\"\n",
    "    pp = \"pp\"\n",
    "\n",
    "\n",
    "    whereiscp = np.where(Y==cp)[0]\n",
    "    whereisim = np.where(Y==im)[0]\n",
    "    whereisms = np.where(Y==ms)[0]\n",
    "    whereisml = np.where(Y==ml)[0]\n",
    "    whereismu = np.where(Y==mu)[0]\n",
    "    whereisom = np.where(Y==om)[0]\n",
    "    whereispp = np.where(Y==pp)[0]\n",
    "\n",
    "    indxall = np.concatenate((whereiscp,whereisim,whereisms,whereisml,whereismu,whereisom,whereispp))\n",
    "    \n",
    "    Xall = X[indxall]\n",
    "    Yall = np.ones(len(indxall))\n",
    "    Yall[whereiscp] =-1\n",
    "    Yall[whereisim] =-1\n",
    "    Yall[whereisms] =-1\n",
    "    Yall[whereisml] =-1\n",
    "    Yall[whereismu] =-1\n",
    "    Yall[whereisom] =-1\n",
    "\n",
    "    xdual_train, xdual_test, ydual_train, ydual_test = train_test_split(Xall, Yall, test_size = 0.15, random_state=46)\n",
    "    \n",
    "    #Creating Classifier\n",
    "    N = len(ydual_train)\n",
    "    XPY = xdual_train.copy()\n",
    "    for i in range(N):\n",
    "       if ydual_train[i]==-1:\n",
    "          XPY[i,:] =-1 * XPY[i,:]   \n",
    "\n",
    "    A = np.matmul(XPY,XPY.transpose())\n",
    "\n",
    "    YM = np.outer(ydual_train[1:],ydual_train[1:])\n",
    "    AY = np.outer(A[0,1:],ydual_train[1:])\n",
    "    YA = np.outer(ydual_train[1:],A[0,1:])\n",
    "\n",
    "\n",
    "    Y0S = ydual_train[0]**2\n",
    "    M = A[1:,1:] + A[0,0]*YM/Y0S - AY/ydual_train[0] - YA/ydual_train[0]\n",
    "    \n",
    "    aw = np.zeros(N)\n",
    "\n",
    "    bright = np.zeros(N)\n",
    "    bright = 1 - ydual_train/ydual_train[0]\n",
    "\n",
    "    adiag = np.diagonal(A)\n",
    "    t1    = A[0,0]\n",
    "    t2    = 2*np.multiply(A[0,:],ydual_train)/ydual_train[0]\n",
    "    t3    = adiag + t1 - t2\n",
    "    indxnzero = np.where(t3 != 0)\n",
    "    aw[indxnzero[0]]    = np.divide(bright[indxnzero],t3[indxnzero])\n",
    "    aw[0] =-sum(ydual_train[indxnzero]*aw[indxnzero])/ydual_train[0]\n",
    "    \n",
    "    YA = np.zeros(N)\n",
    "    YA[0] = ydual_train[0]*aw[0]\n",
    "    YA[indxnzero] = ydual_train[indxnzero]*aw[indxnzero]\n",
    "    wght = sum(xdual_train * YA[:,None])\n",
    "    b =sum(ydual_train - np.matmul(xdual_train,wght))/N\n",
    "    \n",
    "    #Creating fit\n",
    "    yfit = np.matmul(xdual_test,wght) + b\n",
    "    yfitsign = np.sign(yfit)\n",
    "    ydiff = yfitsign - np.asfarray(ydual_test)\n",
    "    wherediff = np.where(ydiff != 0)\n",
    "    \n",
    "    return wherediff[0], wght, ydual_test, b"
   ]
  },
  {
   "cell_type": "code",
   "execution_count": 90,
   "id": "13221744",
   "metadata": {},
   "outputs": [],
   "source": [
    "ppwherediff, ppwght, ppydual_test, ppb= ppvsall(X,Y)"
   ]
  },
  {
   "cell_type": "code",
   "execution_count": 91,
   "id": "84784048",
   "metadata": {},
   "outputs": [
    {
     "name": "stdout",
     "output_type": "stream",
     "text": [
      "0.3333333333333333\n"
     ]
    }
   ],
   "source": [
    "print(len(ppwherediff)/len(ppydual_test))"
   ]
  },
  {
   "cell_type": "code",
   "execution_count": 92,
   "id": "b91f50d4",
   "metadata": {},
   "outputs": [],
   "source": [
    "#creating fit on main test for pp"
   ]
  },
  {
   "cell_type": "code",
   "execution_count": 93,
   "id": "f609048b",
   "metadata": {},
   "outputs": [],
   "source": [
    "ppx_test = x_test[np.where(y_test == \"pp\")[0]]\n",
    "ppy_test = y_test[np.where(y_test == \"pp\")[0]]"
   ]
  },
  {
   "cell_type": "code",
   "execution_count": 94,
   "id": "dd152c0f",
   "metadata": {},
   "outputs": [
    {
     "name": "stdout",
     "output_type": "stream",
     "text": [
      "[1 1 1 -1 1 -1]\n",
      "['pp' 'pp' 'pp' 'pp' 'pp' 'pp']\n"
     ]
    }
   ],
   "source": [
    "ppyfit = np.matmul(ppx_test,ppwght) + ppb\n",
    "ppyfitsign = np.sign(ppyfit)\n",
    "print(ppyfitsign)\n",
    "print(ppy_test)"
   ]
  },
  {
   "cell_type": "code",
   "execution_count": 95,
   "id": "072a0adf",
   "metadata": {},
   "outputs": [
    {
     "data": {
      "text/plain": [
       "51"
      ]
     },
     "execution_count": 95,
     "metadata": {},
     "output_type": "execute_result"
    }
   ],
   "source": [
    "results = np.append(results,ppyfitsign)\n",
    "results.size"
   ]
  },
  {
   "cell_type": "code",
   "execution_count": 96,
   "id": "b7429089",
   "metadata": {},
   "outputs": [
    {
     "name": "stdout",
     "output_type": "stream",
     "text": [
      "Accuracy =  0.8823529411764706\n",
      "Error =  0.11764705882352941\n"
     ]
    }
   ],
   "source": [
    "Right = results[results == 1].size\n",
    "Wrong = results[results == -1].size\n",
    "Total = results.size\n",
    "print(\"Accuracy = \", Right/Total)\n",
    "print(\"Error = \", Wrong/Total)"
   ]
  },
  {
   "cell_type": "code",
   "execution_count": 97,
   "id": "4b7eb219",
   "metadata": {},
   "outputs": [],
   "source": [
    "#Multiclass classification with no kernels Sklearn"
   ]
  },
  {
   "cell_type": "code",
   "execution_count": 98,
   "id": "7b615a81",
   "metadata": {},
   "outputs": [
    {
     "name": "stderr",
     "output_type": "stream",
     "text": [
      "/Users/aidenkempen/anaconda3/lib/python3.11/site-packages/sklearn/svm/_classes.py:32: FutureWarning: The default value of `dual` will change from `True` to `'auto'` in 1.5. Set the value of `dual` explicitly to suppress the warning.\n",
      "  warnings.warn(\n",
      "/Users/aidenkempen/anaconda3/lib/python3.11/site-packages/sklearn/svm/_classes.py:32: FutureWarning: The default value of `dual` will change from `True` to `'auto'` in 1.5. Set the value of `dual` explicitly to suppress the warning.\n",
      "  warnings.warn(\n",
      "/Users/aidenkempen/anaconda3/lib/python3.11/site-packages/sklearn/svm/_classes.py:32: FutureWarning: The default value of `dual` will change from `True` to `'auto'` in 1.5. Set the value of `dual` explicitly to suppress the warning.\n",
      "  warnings.warn(\n",
      "/Users/aidenkempen/anaconda3/lib/python3.11/site-packages/sklearn/svm/_classes.py:32: FutureWarning: The default value of `dual` will change from `True` to `'auto'` in 1.5. Set the value of `dual` explicitly to suppress the warning.\n",
      "  warnings.warn(\n",
      "/Users/aidenkempen/anaconda3/lib/python3.11/site-packages/sklearn/svm/_classes.py:32: FutureWarning: The default value of `dual` will change from `True` to `'auto'` in 1.5. Set the value of `dual` explicitly to suppress the warning.\n",
      "  warnings.warn(\n",
      "/Users/aidenkempen/anaconda3/lib/python3.11/site-packages/sklearn/svm/_classes.py:32: FutureWarning: The default value of `dual` will change from `True` to `'auto'` in 1.5. Set the value of `dual` explicitly to suppress the warning.\n",
      "  warnings.warn(\n",
      "/Users/aidenkempen/anaconda3/lib/python3.11/site-packages/sklearn/svm/_classes.py:32: FutureWarning: The default value of `dual` will change from `True` to `'auto'` in 1.5. Set the value of `dual` explicitly to suppress the warning.\n",
      "  warnings.warn(\n"
     ]
    },
    {
     "data": {
      "text/html": [
       "<style>#sk-container-id-1 {color: black;}#sk-container-id-1 pre{padding: 0;}#sk-container-id-1 div.sk-toggleable {background-color: white;}#sk-container-id-1 label.sk-toggleable__label {cursor: pointer;display: block;width: 100%;margin-bottom: 0;padding: 0.3em;box-sizing: border-box;text-align: center;}#sk-container-id-1 label.sk-toggleable__label-arrow:before {content: \"▸\";float: left;margin-right: 0.25em;color: #696969;}#sk-container-id-1 label.sk-toggleable__label-arrow:hover:before {color: black;}#sk-container-id-1 div.sk-estimator:hover label.sk-toggleable__label-arrow:before {color: black;}#sk-container-id-1 div.sk-toggleable__content {max-height: 0;max-width: 0;overflow: hidden;text-align: left;background-color: #f0f8ff;}#sk-container-id-1 div.sk-toggleable__content pre {margin: 0.2em;color: black;border-radius: 0.25em;background-color: #f0f8ff;}#sk-container-id-1 input.sk-toggleable__control:checked~div.sk-toggleable__content {max-height: 200px;max-width: 100%;overflow: auto;}#sk-container-id-1 input.sk-toggleable__control:checked~label.sk-toggleable__label-arrow:before {content: \"▾\";}#sk-container-id-1 div.sk-estimator input.sk-toggleable__control:checked~label.sk-toggleable__label {background-color: #d4ebff;}#sk-container-id-1 div.sk-label input.sk-toggleable__control:checked~label.sk-toggleable__label {background-color: #d4ebff;}#sk-container-id-1 input.sk-hidden--visually {border: 0;clip: rect(1px 1px 1px 1px);clip: rect(1px, 1px, 1px, 1px);height: 1px;margin: -1px;overflow: hidden;padding: 0;position: absolute;width: 1px;}#sk-container-id-1 div.sk-estimator {font-family: monospace;background-color: #f0f8ff;border: 1px dotted black;border-radius: 0.25em;box-sizing: border-box;margin-bottom: 0.5em;}#sk-container-id-1 div.sk-estimator:hover {background-color: #d4ebff;}#sk-container-id-1 div.sk-parallel-item::after {content: \"\";width: 100%;border-bottom: 1px solid gray;flex-grow: 1;}#sk-container-id-1 div.sk-label:hover label.sk-toggleable__label {background-color: #d4ebff;}#sk-container-id-1 div.sk-serial::before {content: \"\";position: absolute;border-left: 1px solid gray;box-sizing: border-box;top: 0;bottom: 0;left: 50%;z-index: 0;}#sk-container-id-1 div.sk-serial {display: flex;flex-direction: column;align-items: center;background-color: white;padding-right: 0.2em;padding-left: 0.2em;position: relative;}#sk-container-id-1 div.sk-item {position: relative;z-index: 1;}#sk-container-id-1 div.sk-parallel {display: flex;align-items: stretch;justify-content: center;background-color: white;position: relative;}#sk-container-id-1 div.sk-item::before, #sk-container-id-1 div.sk-parallel-item::before {content: \"\";position: absolute;border-left: 1px solid gray;box-sizing: border-box;top: 0;bottom: 0;left: 50%;z-index: -1;}#sk-container-id-1 div.sk-parallel-item {display: flex;flex-direction: column;z-index: 1;position: relative;background-color: white;}#sk-container-id-1 div.sk-parallel-item:first-child::after {align-self: flex-end;width: 50%;}#sk-container-id-1 div.sk-parallel-item:last-child::after {align-self: flex-start;width: 50%;}#sk-container-id-1 div.sk-parallel-item:only-child::after {width: 0;}#sk-container-id-1 div.sk-dashed-wrapped {border: 1px dashed gray;margin: 0 0.4em 0.5em 0.4em;box-sizing: border-box;padding-bottom: 0.4em;background-color: white;}#sk-container-id-1 div.sk-label label {font-family: monospace;font-weight: bold;display: inline-block;line-height: 1.2em;}#sk-container-id-1 div.sk-label-container {text-align: center;}#sk-container-id-1 div.sk-container {/* jupyter's `normalize.less` sets `[hidden] { display: none; }` but bootstrap.min.css set `[hidden] { display: none !important; }` so we also need the `!important` here to be able to override the default hidden behavior on the sphinx rendered scikit-learn.org. See: https://github.com/scikit-learn/scikit-learn/issues/21755 */display: inline-block !important;position: relative;}#sk-container-id-1 div.sk-text-repr-fallback {display: none;}</style><div id=\"sk-container-id-1\" class=\"sk-top-container\"><div class=\"sk-text-repr-fallback\"><pre>OneVsRestClassifier(estimator=LinearSVC())</pre><b>In a Jupyter environment, please rerun this cell to show the HTML representation or trust the notebook. <br />On GitHub, the HTML representation is unable to render, please try loading this page with nbviewer.org.</b></div><div class=\"sk-container\" hidden><div class=\"sk-item sk-dashed-wrapped\"><div class=\"sk-label-container\"><div class=\"sk-label sk-toggleable\"><input class=\"sk-toggleable__control sk-hidden--visually\" id=\"sk-estimator-id-1\" type=\"checkbox\" ><label for=\"sk-estimator-id-1\" class=\"sk-toggleable__label sk-toggleable__label-arrow\">OneVsRestClassifier</label><div class=\"sk-toggleable__content\"><pre>OneVsRestClassifier(estimator=LinearSVC())</pre></div></div></div><div class=\"sk-parallel\"><div class=\"sk-parallel-item\"><div class=\"sk-item\"><div class=\"sk-label-container\"><div class=\"sk-label sk-toggleable\"><input class=\"sk-toggleable__control sk-hidden--visually\" id=\"sk-estimator-id-2\" type=\"checkbox\" ><label for=\"sk-estimator-id-2\" class=\"sk-toggleable__label sk-toggleable__label-arrow\">estimator: LinearSVC</label><div class=\"sk-toggleable__content\"><pre>LinearSVC()</pre></div></div></div><div class=\"sk-serial\"><div class=\"sk-item\"><div class=\"sk-estimator sk-toggleable\"><input class=\"sk-toggleable__control sk-hidden--visually\" id=\"sk-estimator-id-3\" type=\"checkbox\" ><label for=\"sk-estimator-id-3\" class=\"sk-toggleable__label sk-toggleable__label-arrow\">LinearSVC</label><div class=\"sk-toggleable__content\"><pre>LinearSVC()</pre></div></div></div></div></div></div></div></div></div></div>"
      ],
      "text/plain": [
       "OneVsRestClassifier(estimator=LinearSVC())"
      ]
     },
     "execution_count": 98,
     "metadata": {},
     "output_type": "execute_result"
    }
   ],
   "source": [
    "m = OneVsRestClassifier(LinearSVC())\n",
    "m.fit(x_train,y_train)"
   ]
  },
  {
   "cell_type": "code",
   "execution_count": 99,
   "id": "996e7328",
   "metadata": {},
   "outputs": [
    {
     "data": {
      "text/plain": [
       "(array(['cp', 'im', 'mL', 'mS', 'mU', 'om', 'pp'], dtype='<U2'), False)"
      ]
     },
     "execution_count": 99,
     "metadata": {},
     "output_type": "execute_result"
    }
   ],
   "source": [
    "m.classes_ , m.multilabel_"
   ]
  },
  {
   "cell_type": "code",
   "execution_count": 100,
   "id": "f752e05b",
   "metadata": {},
   "outputs": [
    {
     "name": "stdout",
     "output_type": "stream",
     "text": [
      "Accuracy =  0.8823529411764706\n",
      "Error =  0.11764705882352944\n"
     ]
    }
   ],
   "source": [
    "print(\"Accuracy = \", m.score(x_test,y_test) )\n",
    "print(\"Error = \", 1 - m.score(x_test,y_test))"
   ]
  },
  {
   "cell_type": "code",
   "execution_count": 101,
   "id": "74f2494f",
   "metadata": {},
   "outputs": [],
   "source": [
    "#Summary of Multiclass classification with no kernels"
   ]
  },
  {
   "cell_type": "code",
   "execution_count": 102,
   "id": "81e1d450",
   "metadata": {},
   "outputs": [],
   "source": [
    "# We see that with no kernels our own all vs one method actually gets the same accuracy and error rate as the\n",
    "# Sklearn model of all vs one with no kernels. They both have a accuracy of around 88%"
   ]
  },
  {
   "cell_type": "code",
   "execution_count": 103,
   "id": "92c99901",
   "metadata": {},
   "outputs": [],
   "source": [
    "#Both multiclass without kernel and multiclass Sklearn without kearnel had 6 misclassifications"
   ]
  },
  {
   "cell_type": "code",
   "execution_count": null,
   "id": "4f752690",
   "metadata": {},
   "outputs": [],
   "source": []
  },
  {
   "cell_type": "code",
   "execution_count": 104,
   "id": "3a2a4991",
   "metadata": {},
   "outputs": [],
   "source": [
    "#Multiclass classification with kernels"
   ]
  },
  {
   "cell_type": "code",
   "execution_count": 105,
   "id": "65eb030f",
   "metadata": {},
   "outputs": [],
   "source": [
    "#Polynomial"
   ]
  },
  {
   "cell_type": "code",
   "execution_count": 106,
   "id": "d5444023",
   "metadata": {},
   "outputs": [],
   "source": [
    "results = np.array([])"
   ]
  },
  {
   "cell_type": "code",
   "execution_count": 107,
   "id": "63cc007c",
   "metadata": {},
   "outputs": [],
   "source": [
    "#CP vs all"
   ]
  },
  {
   "cell_type": "code",
   "execution_count": 108,
   "id": "57f5eb66",
   "metadata": {},
   "outputs": [],
   "source": [
    "def cpvsall(X,Y):\n",
    "    #Creating data\n",
    "    cp = 'cp'\n",
    "    im = 'im'\n",
    "    ms = \"mS\"\n",
    "    ml = \"mL\"\n",
    "    mu = \"mU\"\n",
    "    om = \"om\"\n",
    "    pp = \"pp\"\n",
    "\n",
    "\n",
    "    whereiscp = np.where(Y==cp)[0]\n",
    "    whereisim = np.where(Y==im)[0]\n",
    "    whereisms = np.where(Y==ms)[0]\n",
    "    whereisml = np.where(Y==ml)[0]\n",
    "    whereismu = np.where(Y==mu)[0]\n",
    "    whereisom = np.where(Y==om)[0]\n",
    "    whereispp = np.where(Y==pp)[0]\n",
    "\n",
    "    indxall = np.concatenate((whereiscp,whereisim,whereisms,whereisml,whereismu,whereisom,whereispp))\n",
    "    \n",
    "    Xall = X[indxall]\n",
    "    Yall = np.ones(len(indxall))\n",
    "    Yall[whereisim] =-1\n",
    "    Yall[whereisms] =-1\n",
    "    Yall[whereisml] =-1\n",
    "    Yall[whereismu] =-1\n",
    "    Yall[whereisom] =-1\n",
    "    Yall[whereispp] =-1\n",
    "\n",
    "    xdual_train, xdual_test, ydual_train, ydual_test = train_test_split(Xall, Yall, test_size = 0.15, random_state=45)\n",
    "    \n",
    "    #Creating Classifier\n",
    "    N = len(ydual_train)\n",
    "    XPY = xdual_train.copy()\n",
    "    for i in range(N):\n",
    "       if ydual_train[i]==-1:\n",
    "          XPY[i,:] =-1 * XPY[i,:]   \n",
    "\n",
    "    A = (np.matmul(XPY,XPY.transpose())+0)**3\n",
    "\n",
    "    YM = np.outer(ydual_train[1:],ydual_train[1:])\n",
    "    AY = np.outer(A[0,1:],ydual_train[1:])\n",
    "    YA = np.outer(ydual_train[1:],A[0,1:])\n",
    "\n",
    "\n",
    "    Y0S = ydual_train[0]**2\n",
    "    M = A[1:,1:] + A[0,0]*YM/Y0S - AY/ydual_train[0] - YA/ydual_train[0]\n",
    "    \n",
    "    aw = np.zeros(N)\n",
    "\n",
    "    bright = np.zeros(N)\n",
    "    bright = 1 - ydual_train/ydual_train[0]\n",
    "\n",
    "    adiag = np.diagonal(A)\n",
    "    t1    = A[0,0]\n",
    "    t2    = 2*np.multiply(A[0,:],ydual_train)/ydual_train[0]\n",
    "    t3    = adiag + t1 - t2\n",
    "    indxnzero = np.where(t3 != 0)\n",
    "    aw[indxnzero[0]]    = np.divide(bright[indxnzero],t3[indxnzero])\n",
    "    aw[0] =-sum(ydual_train[indxnzero]*aw[indxnzero])/ydual_train[0]\n",
    "    \n",
    "    YA = np.zeros(N)\n",
    "    YA[0] = ydual_train[0]*aw[0]\n",
    "    YA[indxnzero] = ydual_train[indxnzero]*aw[indxnzero]\n",
    "    wght = sum(xdual_train * YA[:,None])\n",
    "    b =sum(ydual_train - np.matmul(xdual_train,wght))/N\n",
    "    \n",
    "    #Creating fit\n",
    "    yfit = np.matmul(xdual_test,wght) + b\n",
    "    yfitsign = np.sign(yfit)\n",
    "    ydiff = yfitsign - np.asfarray(ydual_test)\n",
    "    wherediff = np.where(ydiff != 0)\n",
    "    \n",
    "    return wherediff[0], wght, ydual_test, b"
   ]
  },
  {
   "cell_type": "code",
   "execution_count": 109,
   "id": "c50b6a5a",
   "metadata": {},
   "outputs": [],
   "source": [
    "cpwherediff, cpwght, cpydual_test, cpb = cpvsall(X,Y)"
   ]
  },
  {
   "cell_type": "code",
   "execution_count": 110,
   "id": "d239c716",
   "metadata": {},
   "outputs": [
    {
     "name": "stdout",
     "output_type": "stream",
     "text": [
      "0.0392156862745098\n"
     ]
    }
   ],
   "source": [
    "print(len(cpwherediff)/len(cpydual_test))"
   ]
  },
  {
   "cell_type": "code",
   "execution_count": 111,
   "id": "ec24f682",
   "metadata": {},
   "outputs": [],
   "source": [
    "#creating fit on main test for cp"
   ]
  },
  {
   "cell_type": "code",
   "execution_count": 112,
   "id": "874aa03e",
   "metadata": {},
   "outputs": [],
   "source": [
    "cpx_test = x_test[np.where(y_test == \"cp\")[0]]\n",
    "cpy_test = y_test[np.where(y_test == \"cp\")[0]]"
   ]
  },
  {
   "cell_type": "code",
   "execution_count": 113,
   "id": "e49da4d9",
   "metadata": {},
   "outputs": [
    {
     "name": "stdout",
     "output_type": "stream",
     "text": [
      "[1 1 1 1 1 1 -1 1 1 1 1 1 1 1 1 1 1 1 1 1 1 1 1 1 1 1 1 1 1]\n",
      "['cp' 'cp' 'cp' 'cp' 'cp' 'cp' 'cp' 'cp' 'cp' 'cp' 'cp' 'cp' 'cp' 'cp'\n",
      " 'cp' 'cp' 'cp' 'cp' 'cp' 'cp' 'cp' 'cp' 'cp' 'cp' 'cp' 'cp' 'cp' 'cp'\n",
      " 'cp']\n"
     ]
    }
   ],
   "source": [
    "cpyfit = np.matmul(cpx_test,cpwght) + cpb\n",
    "cpyfitsign = np.sign(cpyfit)\n",
    "print(cpyfitsign)\n",
    "print(cpy_test)"
   ]
  },
  {
   "cell_type": "code",
   "execution_count": 114,
   "id": "ff1f0445",
   "metadata": {},
   "outputs": [],
   "source": [
    "results = np.append(results,cpyfitsign)"
   ]
  },
  {
   "cell_type": "code",
   "execution_count": 115,
   "id": "a5f4a79e",
   "metadata": {},
   "outputs": [],
   "source": [
    "#im vs all"
   ]
  },
  {
   "cell_type": "code",
   "execution_count": 116,
   "id": "9fd28910",
   "metadata": {},
   "outputs": [],
   "source": [
    "def imvsall(X,Y):\n",
    "    #Creating data\n",
    "    cp = 'cp'\n",
    "    im = 'im'\n",
    "    ms = \"mS\"\n",
    "    ml = \"mL\"\n",
    "    mu = \"mU\"\n",
    "    om = \"om\"\n",
    "    pp = \"pp\"\n",
    "\n",
    "\n",
    "    whereiscp = np.where(Y==cp)[0]\n",
    "    whereisim = np.where(Y==im)[0]\n",
    "    whereisms = np.where(Y==ms)[0]\n",
    "    whereisml = np.where(Y==ml)[0]\n",
    "    whereismu = np.where(Y==mu)[0]\n",
    "    whereisom = np.where(Y==om)[0]\n",
    "    whereispp = np.where(Y==pp)[0]\n",
    "\n",
    "    indxall = np.concatenate((whereiscp,whereisim,whereisms,whereisml,whereismu,whereisom,whereispp))\n",
    "    \n",
    "    Xall = X[indxall]\n",
    "    Yall = np.ones(len(indxall))\n",
    "    Yall[whereiscp] =-1\n",
    "    Yall[whereisms] =-1\n",
    "    Yall[whereisml] =-1\n",
    "    Yall[whereismu] =-1\n",
    "    Yall[whereisom] =-1\n",
    "    Yall[whereispp] =-1\n",
    "\n",
    "    xdual_train, xdual_test, ydual_train, ydual_test = train_test_split(Xall, Yall, test_size = 0.15, random_state=45)\n",
    "    \n",
    "    #Creating Classifier\n",
    "    N = len(ydual_train)\n",
    "    XPY = xdual_train.copy()\n",
    "    for i in range(N):\n",
    "       if ydual_train[i]==-1:\n",
    "          XPY[i,:] =-1 * XPY[i,:]   \n",
    "\n",
    "    A = (np.matmul(XPY,XPY.transpose())+0)**3\n",
    "\n",
    "    YM = np.outer(ydual_train[1:],ydual_train[1:])\n",
    "    AY = np.outer(A[0,1:],ydual_train[1:])\n",
    "    YA = np.outer(ydual_train[1:],A[0,1:])\n",
    "\n",
    "\n",
    "    Y0S = ydual_train[0]**2\n",
    "    M = A[1:,1:] + A[0,0]*YM/Y0S - AY/ydual_train[0] - YA/ydual_train[0]\n",
    "    \n",
    "    aw = np.zeros(N)\n",
    "\n",
    "    bright = np.zeros(N)\n",
    "    bright = 1 - ydual_train/ydual_train[0]\n",
    "\n",
    "    adiag = np.diagonal(A)\n",
    "    t1    = A[0,0]\n",
    "    t2    = 2*np.multiply(A[0,:],ydual_train)/ydual_train[0]\n",
    "    t3    = adiag + t1 - t2\n",
    "    indxnzero = np.where(t3 != 0)\n",
    "    aw[indxnzero[0]]    = np.divide(bright[indxnzero],t3[indxnzero])\n",
    "    aw[0] =-sum(ydual_train[indxnzero]*aw[indxnzero])/ydual_train[0]\n",
    "    \n",
    "    YA = np.zeros(N)\n",
    "    YA[0] = ydual_train[0]*aw[0]\n",
    "    YA[indxnzero] = ydual_train[indxnzero]*aw[indxnzero]\n",
    "    wght = sum(xdual_train * YA[:,None])\n",
    "    b =sum(ydual_train - np.matmul(xdual_train,wght))/N\n",
    "    \n",
    "    #Creating fit\n",
    "    yfit = np.matmul(xdual_test,wght) + b\n",
    "    yfitsign = np.sign(yfit)\n",
    "    ydiff = yfitsign - np.asfarray(ydual_test)\n",
    "    wherediff = np.where(ydiff != 0)\n",
    "    \n",
    "    return wherediff[0], wght, ydual_test, b"
   ]
  },
  {
   "cell_type": "code",
   "execution_count": 117,
   "id": "4f2e18b8",
   "metadata": {},
   "outputs": [],
   "source": [
    "imwherediff, imwght, imydual_test, imb = imvsall(X,Y)"
   ]
  },
  {
   "cell_type": "code",
   "execution_count": 118,
   "id": "334efedd",
   "metadata": {},
   "outputs": [
    {
     "name": "stdout",
     "output_type": "stream",
     "text": [
      "0.11764705882352941\n"
     ]
    }
   ],
   "source": [
    "print(len(imwherediff)/len(imydual_test))"
   ]
  },
  {
   "cell_type": "code",
   "execution_count": 119,
   "id": "59f4901a",
   "metadata": {},
   "outputs": [],
   "source": [
    "#creating fit on main test for im"
   ]
  },
  {
   "cell_type": "code",
   "execution_count": 120,
   "id": "d04bbd0f",
   "metadata": {},
   "outputs": [],
   "source": [
    "imx_test = x_test[np.where(y_test == \"im\")[0]]\n",
    "imy_test = y_test[np.where(y_test == \"im\")[0]]"
   ]
  },
  {
   "cell_type": "code",
   "execution_count": 121,
   "id": "f32d7baa",
   "metadata": {},
   "outputs": [
    {
     "name": "stdout",
     "output_type": "stream",
     "text": [
      "[1 1 -1 1 1 1 1 1]\n",
      "['im' 'im' 'im' 'im' 'im' 'im' 'im' 'im']\n"
     ]
    }
   ],
   "source": [
    "imyfit = np.matmul(imx_test,imwght) + imb\n",
    "imyfitsign = np.sign(imyfit)\n",
    "print(imyfitsign)\n",
    "print(imy_test)"
   ]
  },
  {
   "cell_type": "code",
   "execution_count": 122,
   "id": "b32d9000",
   "metadata": {},
   "outputs": [],
   "source": [
    "results = np.append(results,imyfitsign)"
   ]
  },
  {
   "cell_type": "code",
   "execution_count": 123,
   "id": "1f7a9a9d",
   "metadata": {},
   "outputs": [],
   "source": [
    "#ms va all"
   ]
  },
  {
   "cell_type": "code",
   "execution_count": 124,
   "id": "a6483098",
   "metadata": {},
   "outputs": [],
   "source": [
    "def msvsall(X,Y):\n",
    "    #Creating data\n",
    "    cp = 'cp'\n",
    "    im = 'im'\n",
    "    ms = \"mS\"\n",
    "    ml = \"mL\"\n",
    "    mu = \"mU\"\n",
    "    om = \"om\"\n",
    "    pp = \"pp\"\n",
    "\n",
    "\n",
    "    whereiscp = np.where(Y==cp)[0]\n",
    "    whereisim = np.where(Y==im)[0]\n",
    "    whereisms = np.where(Y==ms)[0]\n",
    "    whereisml = np.where(Y==ml)[0]\n",
    "    whereismu = np.where(Y==mu)[0]\n",
    "    whereisom = np.where(Y==om)[0]\n",
    "    whereispp = np.where(Y==pp)[0]\n",
    "\n",
    "    indxall = np.concatenate((whereiscp,whereisim,whereisms,whereisml,whereismu,whereisom,whereispp))\n",
    "    \n",
    "    Xall = X[indxall]\n",
    "    Yall = np.ones(len(indxall))\n",
    "    Yall[whereiscp] =-1\n",
    "    Yall[whereisim] =-1\n",
    "    Yall[whereisml] =-1\n",
    "    Yall[whereismu] =-1\n",
    "    Yall[whereisom] =-1\n",
    "    Yall[whereispp] =-1\n",
    "\n",
    "    xdual_train, xdual_test, ydual_train, ydual_test = train_test_split(Xall, Yall, test_size = 0.15, random_state=45)\n",
    "    \n",
    "    #Creating Classifier\n",
    "    N = len(ydual_train)\n",
    "    XPY = xdual_train.copy()\n",
    "    for i in range(N):\n",
    "       if ydual_train[i]==-1:\n",
    "          XPY[i,:] =-1 * XPY[i,:]   \n",
    "\n",
    "    A = (np.matmul(XPY,XPY.transpose())+0)**3\n",
    "\n",
    "    YM = np.outer(ydual_train[1:],ydual_train[1:])\n",
    "    AY = np.outer(A[0,1:],ydual_train[1:])\n",
    "    YA = np.outer(ydual_train[1:],A[0,1:])\n",
    "\n",
    "\n",
    "    Y0S = ydual_train[0]**2\n",
    "    M = A[1:,1:] + A[0,0]*YM/Y0S - AY/ydual_train[0] - YA/ydual_train[0]\n",
    "    \n",
    "    aw = np.zeros(N)\n",
    "\n",
    "    bright = np.zeros(N)\n",
    "    bright = 1 - ydual_train/ydual_train[0]\n",
    "\n",
    "    adiag = np.diagonal(A)\n",
    "    t1    = A[0,0]\n",
    "    t2    = 2*np.multiply(A[0,:],ydual_train)/ydual_train[0]\n",
    "    t3    = adiag + t1 - t2\n",
    "    indxnzero = np.where(t3 != 0)\n",
    "    aw[indxnzero[0]]    = np.divide(bright[indxnzero],t3[indxnzero])\n",
    "    aw[0] =-sum(ydual_train[indxnzero]*aw[indxnzero])/ydual_train[0]\n",
    "    \n",
    "    YA = np.zeros(N)\n",
    "    YA[0] = ydual_train[0]*aw[0]\n",
    "    YA[indxnzero] = ydual_train[indxnzero]*aw[indxnzero]\n",
    "    wght = sum(xdual_train * YA[:,None])\n",
    "    b =sum(ydual_train - np.matmul(xdual_train,wght))/N\n",
    "    \n",
    "    #Creating fit\n",
    "    yfit = np.matmul(xdual_test,wght) + b\n",
    "    yfitsign = np.sign(yfit)\n",
    "    ydiff = yfitsign - np.asfarray(ydual_test)\n",
    "    wherediff = np.where(ydiff != 0)\n",
    "    \n",
    "    return wherediff[0], wght, ydual_test, b"
   ]
  },
  {
   "cell_type": "code",
   "execution_count": 125,
   "id": "bf6b21ff",
   "metadata": {},
   "outputs": [],
   "source": [
    "mswherediff, mswght, msydual_test, msb = msvsall(X,Y)"
   ]
  },
  {
   "cell_type": "code",
   "execution_count": 126,
   "id": "dd8e7c9d",
   "metadata": {},
   "outputs": [
    {
     "name": "stdout",
     "output_type": "stream",
     "text": [
      "0.0\n"
     ]
    }
   ],
   "source": [
    "print(len(mswherediff)/len(msydual_test))"
   ]
  },
  {
   "cell_type": "code",
   "execution_count": 127,
   "id": "ce11985f",
   "metadata": {},
   "outputs": [],
   "source": [
    "#creating fit on main test for ms"
   ]
  },
  {
   "cell_type": "code",
   "execution_count": 128,
   "id": "50f72f00",
   "metadata": {},
   "outputs": [],
   "source": [
    "msx_test = x_test[np.where(y_test == \"mS\")[0]]\n",
    "msy_test = y_test[np.where(y_test == \"mS\")[0]]"
   ]
  },
  {
   "cell_type": "code",
   "execution_count": 129,
   "id": "bc070d9f",
   "metadata": {},
   "outputs": [
    {
     "name": "stdout",
     "output_type": "stream",
     "text": [
      "[]\n",
      "[]\n"
     ]
    }
   ],
   "source": [
    "msyfit = np.matmul(msx_test,mswght) + msb\n",
    "msyfitsign = np.sign(msyfit)\n",
    "print(msyfitsign)\n",
    "print(msy_test)"
   ]
  },
  {
   "cell_type": "code",
   "execution_count": 130,
   "id": "11ae1807",
   "metadata": {},
   "outputs": [],
   "source": [
    "results = np.append(results,msyfitsign)"
   ]
  },
  {
   "cell_type": "code",
   "execution_count": 131,
   "id": "88a3960f",
   "metadata": {},
   "outputs": [],
   "source": [
    "#ml vs all"
   ]
  },
  {
   "cell_type": "code",
   "execution_count": 132,
   "id": "f6ee7ff2",
   "metadata": {},
   "outputs": [],
   "source": [
    "def mlvsall(X,Y):\n",
    "    #Creating data\n",
    "    cp = 'cp'\n",
    "    im = 'im'\n",
    "    ms = \"mS\"\n",
    "    ml = \"mL\"\n",
    "    mu = \"mU\"\n",
    "    om = \"om\"\n",
    "    pp = \"pp\"\n",
    "\n",
    "\n",
    "    whereiscp = np.where(Y==cp)[0]\n",
    "    whereisim = np.where(Y==im)[0]\n",
    "    whereisms = np.where(Y==ms)[0]\n",
    "    whereisml = np.where(Y==ml)[0]\n",
    "    whereismu = np.where(Y==mu)[0]\n",
    "    whereisom = np.where(Y==om)[0]\n",
    "    whereispp = np.where(Y==pp)[0]\n",
    "\n",
    "    indxall = np.concatenate((whereiscp,whereisim,whereisms,whereisml,whereismu,whereisom,whereispp))\n",
    "    \n",
    "    Xall = X[indxall]\n",
    "    Yall = np.ones(len(indxall))\n",
    "    Yall[whereiscp] =-1\n",
    "    Yall[whereisim] =-1\n",
    "    Yall[whereisms] =-1\n",
    "    Yall[whereismu] =-1\n",
    "    Yall[whereisom] =-1\n",
    "    Yall[whereispp] =-1\n",
    "\n",
    "    xdual_train, xdual_test, ydual_train, ydual_test = train_test_split(Xall, Yall, test_size = 0.15, random_state=45)\n",
    "    \n",
    "    #Creating Classifier\n",
    "    N = len(ydual_train)\n",
    "    XPY = xdual_train.copy()\n",
    "    for i in range(N):\n",
    "       if ydual_train[i]==-1:\n",
    "          XPY[i,:] =-1 * XPY[i,:]   \n",
    "\n",
    "    A = (np.matmul(XPY,XPY.transpose())+0)**3\n",
    "\n",
    "    YM = np.outer(ydual_train[1:],ydual_train[1:])\n",
    "    AY = np.outer(A[0,1:],ydual_train[1:])\n",
    "    YA = np.outer(ydual_train[1:],A[0,1:])\n",
    "\n",
    "\n",
    "    Y0S = ydual_train[0]**2\n",
    "    M = A[1:,1:] + A[0,0]*YM/Y0S - AY/ydual_train[0] - YA/ydual_train[0]\n",
    "    \n",
    "    aw = np.zeros(N)\n",
    "\n",
    "    bright = np.zeros(N)\n",
    "    bright = 1 - ydual_train/ydual_train[0]\n",
    "\n",
    "    adiag = np.diagonal(A)\n",
    "    t1    = A[0,0]\n",
    "    t2    = 2*np.multiply(A[0,:],ydual_train)/ydual_train[0]\n",
    "    t3    = adiag + t1 - t2\n",
    "    indxnzero = np.where(t3 != 0)\n",
    "    aw[indxnzero[0]]    = np.divide(bright[indxnzero],t3[indxnzero])\n",
    "    aw[0] =-sum(ydual_train[indxnzero]*aw[indxnzero])/ydual_train[0]\n",
    "    \n",
    "    YA = np.zeros(N)\n",
    "    YA[0] = ydual_train[0]*aw[0]\n",
    "    YA[indxnzero] = ydual_train[indxnzero]*aw[indxnzero]\n",
    "    wght = sum(xdual_train * YA[:,None])\n",
    "    b =sum(ydual_train - np.matmul(xdual_train,wght))/N\n",
    "    \n",
    "    #Creating fit\n",
    "    yfit = np.matmul(xdual_test,wght) + b\n",
    "    yfitsign = np.sign(yfit)\n",
    "    ydiff = yfitsign - np.asfarray(ydual_test)\n",
    "    wherediff = np.where(ydiff != 0)\n",
    "    \n",
    "    return wherediff[0], wght, ydual_test, b"
   ]
  },
  {
   "cell_type": "code",
   "execution_count": 133,
   "id": "36402653",
   "metadata": {},
   "outputs": [],
   "source": [
    "mlwherediff, mlwght, mlydual_test, mlb = mlvsall(X,Y)"
   ]
  },
  {
   "cell_type": "code",
   "execution_count": 134,
   "id": "fddec0b4",
   "metadata": {},
   "outputs": [
    {
     "name": "stdout",
     "output_type": "stream",
     "text": [
      "0.0392156862745098\n"
     ]
    }
   ],
   "source": [
    "print(len(mlwherediff)/len(mlydual_test))"
   ]
  },
  {
   "cell_type": "code",
   "execution_count": 135,
   "id": "04f09025",
   "metadata": {},
   "outputs": [],
   "source": [
    "#creating fit on main test for ml"
   ]
  },
  {
   "cell_type": "code",
   "execution_count": 136,
   "id": "3ae585c9",
   "metadata": {},
   "outputs": [],
   "source": [
    "mlx_test = x_test[np.where(y_test == \"mL\")[0]]\n",
    "mly_test = y_test[np.where(y_test == \"mL\")[0]]"
   ]
  },
  {
   "cell_type": "code",
   "execution_count": 137,
   "id": "dc7b94ef",
   "metadata": {},
   "outputs": [
    {
     "name": "stdout",
     "output_type": "stream",
     "text": [
      "[-1]\n",
      "['mL']\n"
     ]
    }
   ],
   "source": [
    "mlyfit = np.matmul(mlx_test,mlwght) + mlb\n",
    "mlyfitsign = np.sign(mlyfit)\n",
    "print(mlyfitsign)\n",
    "print(mly_test)"
   ]
  },
  {
   "cell_type": "code",
   "execution_count": 138,
   "id": "e9e8766b",
   "metadata": {},
   "outputs": [],
   "source": [
    "results = np.append(results,mlyfitsign)"
   ]
  },
  {
   "cell_type": "code",
   "execution_count": 139,
   "id": "5b86ae5a",
   "metadata": {},
   "outputs": [],
   "source": [
    "#mu vs all"
   ]
  },
  {
   "cell_type": "code",
   "execution_count": 140,
   "id": "1d6acb90",
   "metadata": {},
   "outputs": [],
   "source": [
    "def muvsall(X,Y):\n",
    "    #Creating data\n",
    "    cp = 'cp'\n",
    "    im = 'im'\n",
    "    ms = \"mS\"\n",
    "    ml = \"mL\"\n",
    "    mu = \"mU\"\n",
    "    om = \"om\"\n",
    "    pp = \"pp\"\n",
    "\n",
    "\n",
    "    whereiscp = np.where(Y==cp)[0]\n",
    "    whereisim = np.where(Y==im)[0]\n",
    "    whereisms = np.where(Y==ms)[0]\n",
    "    whereisml = np.where(Y==ml)[0]\n",
    "    whereismu = np.where(Y==mu)[0]\n",
    "    whereisom = np.where(Y==om)[0]\n",
    "    whereispp = np.where(Y==pp)[0]\n",
    "\n",
    "    indxall = np.concatenate((whereiscp,whereisim,whereisms,whereisml,whereismu,whereisom,whereispp))\n",
    "    \n",
    "    Xall = X[indxall]\n",
    "    Yall = np.ones(len(indxall))\n",
    "    Yall[whereiscp] =-1\n",
    "    Yall[whereisim] =-1\n",
    "    Yall[whereisms] =-1\n",
    "    Yall[whereisml] =-1\n",
    "    Yall[whereisom] =-1\n",
    "    Yall[whereispp] =-1\n",
    "\n",
    "    xdual_train, xdual_test, ydual_train, ydual_test = train_test_split(Xall, Yall, test_size = 0.15, random_state=45)\n",
    "    \n",
    "    #Creating Classifier\n",
    "    N = len(ydual_train)\n",
    "    XPY = xdual_train.copy()\n",
    "    for i in range(N):\n",
    "       if ydual_train[i]==-1:\n",
    "          XPY[i,:] =-1 * XPY[i,:]   \n",
    "\n",
    "    A = (np.matmul(XPY,XPY.transpose())+ 0)**3\n",
    "\n",
    "    YM = np.outer(ydual_train[1:],ydual_train[1:])\n",
    "    AY = np.outer(A[0,1:],ydual_train[1:])\n",
    "    YA = np.outer(ydual_train[1:],A[0,1:])\n",
    "\n",
    "\n",
    "    Y0S = ydual_train[0]**2\n",
    "    M = A[1:,1:] + A[0,0]*YM/Y0S - AY/ydual_train[0] - YA/ydual_train[0]\n",
    "    \n",
    "    aw = np.zeros(N)\n",
    "\n",
    "    bright = np.zeros(N)\n",
    "    bright = 1 - ydual_train/ydual_train[0]\n",
    "\n",
    "    adiag = np.diagonal(A)\n",
    "    t1    = A[0,0]\n",
    "    t2    = 2*np.multiply(A[0,:],ydual_train)/ydual_train[0]\n",
    "    t3    = adiag + t1 - t2\n",
    "    indxnzero = np.where(t3 != 0)\n",
    "    aw[indxnzero[0]]    = np.divide(bright[indxnzero],t3[indxnzero])\n",
    "    aw[0] =-sum(ydual_train[indxnzero]*aw[indxnzero])/ydual_train[0]\n",
    "    \n",
    "    YA = np.zeros(N)\n",
    "    YA[0] = ydual_train[0]*aw[0]\n",
    "    YA[indxnzero] = ydual_train[indxnzero]*aw[indxnzero]\n",
    "    wght = sum(xdual_train * YA[:,None])\n",
    "    b =sum(ydual_train - np.matmul(xdual_train,wght))/N\n",
    "    \n",
    "    #Creating fit\n",
    "    yfit = np.matmul(xdual_test,wght) + b\n",
    "    yfitsign = np.sign(yfit)\n",
    "    ydiff = yfitsign - np.asfarray(ydual_test)\n",
    "    wherediff = np.where(ydiff != 0)\n",
    "    \n",
    "    return wherediff[0], wght, ydual_test, b"
   ]
  },
  {
   "cell_type": "code",
   "execution_count": 141,
   "id": "dc349378",
   "metadata": {},
   "outputs": [],
   "source": [
    "muwherediff, muwght, muydual_test, mub = muvsall(X,Y)"
   ]
  },
  {
   "cell_type": "code",
   "execution_count": 142,
   "id": "61e1e1ab",
   "metadata": {},
   "outputs": [
    {
     "name": "stdout",
     "output_type": "stream",
     "text": [
      "0.0784313725490196\n"
     ]
    }
   ],
   "source": [
    "print(len(muwherediff)/len(muydual_test))"
   ]
  },
  {
   "cell_type": "code",
   "execution_count": 143,
   "id": "5886a99b",
   "metadata": {},
   "outputs": [],
   "source": [
    "#creating fit on main test for mu"
   ]
  },
  {
   "cell_type": "code",
   "execution_count": 144,
   "id": "2a34343a",
   "metadata": {},
   "outputs": [],
   "source": [
    "mux_test = x_test[np.where(y_test == \"mU\")[0]]\n",
    "muy_test = y_test[np.where(y_test == \"mU\")[0]]"
   ]
  },
  {
   "cell_type": "code",
   "execution_count": 145,
   "id": "3db4de60",
   "metadata": {},
   "outputs": [
    {
     "name": "stdout",
     "output_type": "stream",
     "text": [
      "[-1 1 -1 1 1]\n",
      "['mU' 'mU' 'mU' 'mU' 'mU']\n"
     ]
    }
   ],
   "source": [
    "muyfit = np.matmul(mux_test,muwght) + mub\n",
    "muyfitsign = np.sign(muyfit)\n",
    "print(muyfitsign)\n",
    "print(muy_test)"
   ]
  },
  {
   "cell_type": "code",
   "execution_count": 146,
   "id": "95c7ec11",
   "metadata": {},
   "outputs": [],
   "source": [
    "results = np.append(results,muyfitsign)"
   ]
  },
  {
   "cell_type": "code",
   "execution_count": 147,
   "id": "ef6d0429",
   "metadata": {},
   "outputs": [],
   "source": [
    "#om vs all"
   ]
  },
  {
   "cell_type": "code",
   "execution_count": 148,
   "id": "c80b5124",
   "metadata": {},
   "outputs": [],
   "source": [
    "def omvsall(X,Y):\n",
    "    #Creating data\n",
    "    cp = 'cp'\n",
    "    im = 'im'\n",
    "    ms = \"mS\"\n",
    "    ml = \"mL\"\n",
    "    mu = \"mU\"\n",
    "    om = \"om\"\n",
    "    pp = \"pp\"\n",
    "\n",
    "\n",
    "    whereiscp = np.where(Y==cp)[0]\n",
    "    whereisim = np.where(Y==im)[0]\n",
    "    whereisms = np.where(Y==ms)[0]\n",
    "    whereisml = np.where(Y==ml)[0]\n",
    "    whereismu = np.where(Y==mu)[0]\n",
    "    whereisom = np.where(Y==om)[0]\n",
    "    whereispp = np.where(Y==pp)[0]\n",
    "\n",
    "    indxall = np.concatenate((whereiscp,whereisim,whereisms,whereisml,whereismu,whereisom,whereispp))\n",
    "    \n",
    "    Xall = X[indxall]\n",
    "    Yall = np.ones(len(indxall))\n",
    "    Yall[whereiscp] =-1\n",
    "    Yall[whereisim] =-1\n",
    "    Yall[whereisms] =-1\n",
    "    Yall[whereisml] =-1\n",
    "    Yall[whereismu] =-1\n",
    "    Yall[whereispp] =-1\n",
    "\n",
    "    xdual_train, xdual_test, ydual_train, ydual_test = train_test_split(Xall, Yall, test_size = 0.15, random_state=45)\n",
    "    \n",
    "    #Creating Classifier\n",
    "    N = len(ydual_train)\n",
    "    XPY = xdual_train.copy()\n",
    "    for i in range(N):\n",
    "       if ydual_train[i]==-1:\n",
    "          XPY[i,:] =-1 * XPY[i,:]   \n",
    "\n",
    "    A = (np.matmul(XPY,XPY.transpose())+0)**3\n",
    "\n",
    "    YM = np.outer(ydual_train[1:],ydual_train[1:])\n",
    "    AY = np.outer(A[0,1:],ydual_train[1:])\n",
    "    YA = np.outer(ydual_train[1:],A[0,1:])\n",
    "\n",
    "\n",
    "    Y0S = ydual_train[0]**2\n",
    "    M = A[1:,1:] + A[0,0]*YM/Y0S - AY/ydual_train[0] - YA/ydual_train[0]\n",
    "    \n",
    "    aw = np.zeros(N)\n",
    "\n",
    "    bright = np.zeros(N)\n",
    "    bright = 1 - ydual_train/ydual_train[0]\n",
    "\n",
    "    adiag = np.diagonal(A)\n",
    "    t1    = A[0,0]\n",
    "    t2    = 2*np.multiply(A[0,:],ydual_train)/ydual_train[0]\n",
    "    t3    = adiag + t1 - t2\n",
    "    indxnzero = np.where(t3 != 0)\n",
    "    aw[indxnzero[0]]    = np.divide(bright[indxnzero],t3[indxnzero])\n",
    "    aw[0] =-sum(ydual_train[indxnzero]*aw[indxnzero])/ydual_train[0]\n",
    "    \n",
    "    YA = np.zeros(N)\n",
    "    YA[0] = ydual_train[0]*aw[0]\n",
    "    YA[indxnzero] = ydual_train[indxnzero]*aw[indxnzero]\n",
    "    wght = sum(xdual_train * YA[:,None])\n",
    "    b =sum(ydual_train - np.matmul(xdual_train,wght))/N\n",
    "    \n",
    "    #Creating fit\n",
    "    yfit = np.matmul(xdual_test,wght) + b\n",
    "    yfitsign = np.sign(yfit)\n",
    "    ydiff = yfitsign - np.asfarray(ydual_test)\n",
    "    wherediff = np.where(ydiff != 0)\n",
    "    \n",
    "    return wherediff[0], wght, ydual_test, b"
   ]
  },
  {
   "cell_type": "code",
   "execution_count": 149,
   "id": "5d4088ca",
   "metadata": {},
   "outputs": [],
   "source": [
    "omwherediff, omwght, omydual_test, omb = omvsall(X,Y)"
   ]
  },
  {
   "cell_type": "code",
   "execution_count": 150,
   "id": "13eb69c2",
   "metadata": {},
   "outputs": [
    {
     "name": "stdout",
     "output_type": "stream",
     "text": [
      "0.0392156862745098\n"
     ]
    }
   ],
   "source": [
    "print(len(omwherediff)/len(omydual_test))"
   ]
  },
  {
   "cell_type": "code",
   "execution_count": 151,
   "id": "d9603e29",
   "metadata": {},
   "outputs": [],
   "source": [
    "#creating fit on main test for om"
   ]
  },
  {
   "cell_type": "code",
   "execution_count": 152,
   "id": "d1f7f8bc",
   "metadata": {},
   "outputs": [],
   "source": [
    "omx_test = x_test[np.where(y_test == \"om\")[0]]\n",
    "omy_test = y_test[np.where(y_test == \"om\")[0]]"
   ]
  },
  {
   "cell_type": "code",
   "execution_count": 153,
   "id": "088809c3",
   "metadata": {},
   "outputs": [
    {
     "name": "stdout",
     "output_type": "stream",
     "text": [
      "[-1 1]\n",
      "['om' 'om']\n"
     ]
    }
   ],
   "source": [
    "omyfit = np.matmul(omx_test,omwght) + omb\n",
    "omyfitsign = np.sign(omyfit)\n",
    "print(omyfitsign)\n",
    "print(omy_test)"
   ]
  },
  {
   "cell_type": "code",
   "execution_count": 154,
   "id": "a096ed49",
   "metadata": {},
   "outputs": [],
   "source": [
    "results = np.append(results,omyfitsign)"
   ]
  },
  {
   "cell_type": "code",
   "execution_count": 155,
   "id": "5e560486",
   "metadata": {},
   "outputs": [],
   "source": [
    "# pp vs all"
   ]
  },
  {
   "cell_type": "code",
   "execution_count": 156,
   "id": "d8e30a91",
   "metadata": {},
   "outputs": [],
   "source": [
    "def ppvsall(X,Y):\n",
    "    #Creating data\n",
    "    cp = 'cp'\n",
    "    im = 'im'\n",
    "    ms = \"mS\"\n",
    "    ml = \"mL\"\n",
    "    mu = \"mU\"\n",
    "    om = \"om\"\n",
    "    pp = \"pp\"\n",
    "\n",
    "\n",
    "    whereiscp = np.where(Y==cp)[0]\n",
    "    whereisim = np.where(Y==im)[0]\n",
    "    whereisms = np.where(Y==ms)[0]\n",
    "    whereisml = np.where(Y==ml)[0]\n",
    "    whereismu = np.where(Y==mu)[0]\n",
    "    whereisom = np.where(Y==om)[0]\n",
    "    whereispp = np.where(Y==pp)[0]\n",
    "\n",
    "    indxall = np.concatenate((whereiscp,whereisim,whereisms,whereisml,whereismu,whereisom,whereispp))\n",
    "    \n",
    "    Xall = X[indxall]\n",
    "    Yall = np.ones(len(indxall))\n",
    "    Yall[whereiscp] =-1\n",
    "    Yall[whereisim] =-1\n",
    "    Yall[whereisms] =-1\n",
    "    Yall[whereisml] =-1\n",
    "    Yall[whereismu] =-1\n",
    "    Yall[whereisom] =-1\n",
    "\n",
    "    xdual_train, xdual_test, ydual_train, ydual_test = train_test_split(Xall, Yall, test_size = 0.15, random_state=45)\n",
    "    \n",
    "    #Creating Classifier\n",
    "    N = len(ydual_train)\n",
    "    XPY = xdual_train.copy()\n",
    "    for i in range(N):\n",
    "       if ydual_train[i]==-1:\n",
    "          XPY[i,:] =-1 * XPY[i,:]   \n",
    "\n",
    "    A = (np.matmul(XPY,XPY.transpose())+0)**3\n",
    "\n",
    "    YM = np.outer(ydual_train[1:],ydual_train[1:])\n",
    "    AY = np.outer(A[0,1:],ydual_train[1:])\n",
    "    YA = np.outer(ydual_train[1:],A[0,1:])\n",
    "\n",
    "\n",
    "    Y0S = ydual_train[0]**2\n",
    "    M = A[1:,1:] + A[0,0]*YM/Y0S - AY/ydual_train[0] - YA/ydual_train[0]\n",
    "    \n",
    "    aw = np.zeros(N)\n",
    "\n",
    "    bright = np.zeros(N)\n",
    "    bright = 1 - ydual_train/ydual_train[0]\n",
    "\n",
    "    adiag = np.diagonal(A)\n",
    "    t1    = A[0,0]\n",
    "    t2    = 2*np.multiply(A[0,:],ydual_train)/ydual_train[0]\n",
    "    t3    = adiag + t1 - t2\n",
    "    indxnzero = np.where(t3 != 0)\n",
    "    aw[indxnzero[0]]    = np.divide(bright[indxnzero],t3[indxnzero])\n",
    "    aw[0] =-sum(ydual_train[indxnzero]*aw[indxnzero])/ydual_train[0]\n",
    "    \n",
    "    YA = np.zeros(N)\n",
    "    YA[0] = ydual_train[0]*aw[0]\n",
    "    YA[indxnzero] = ydual_train[indxnzero]*aw[indxnzero]\n",
    "    wght = sum(xdual_train * YA[:,None])\n",
    "    b =sum(ydual_train - np.matmul(xdual_train,wght))/N\n",
    "    \n",
    "    #Creating fit\n",
    "    yfit = np.matmul(xdual_test,wght) + b\n",
    "    yfitsign = np.sign(yfit)\n",
    "    ydiff = yfitsign - np.asfarray(ydual_test)\n",
    "    wherediff = np.where(ydiff != 0)\n",
    "    \n",
    "    return wherediff[0], wght, ydual_test, b"
   ]
  },
  {
   "cell_type": "code",
   "execution_count": 157,
   "id": "ddfa3bb6",
   "metadata": {},
   "outputs": [],
   "source": [
    "ppwherediff, ppwght, ppydual_test, ppb= ppvsall(X,Y)"
   ]
  },
  {
   "cell_type": "code",
   "execution_count": 158,
   "id": "6cac9a8c",
   "metadata": {},
   "outputs": [
    {
     "name": "stdout",
     "output_type": "stream",
     "text": [
      "0.11764705882352941\n"
     ]
    }
   ],
   "source": [
    "print(len(ppwherediff)/len(ppydual_test))"
   ]
  },
  {
   "cell_type": "code",
   "execution_count": 159,
   "id": "799e9be9",
   "metadata": {},
   "outputs": [],
   "source": [
    "#creating fit on main test for pp"
   ]
  },
  {
   "cell_type": "code",
   "execution_count": 160,
   "id": "bd171fc4",
   "metadata": {},
   "outputs": [],
   "source": [
    "ppx_test = x_test[np.where(y_test == \"pp\")[0]]\n",
    "ppy_test = y_test[np.where(y_test == \"pp\")[0]]"
   ]
  },
  {
   "cell_type": "code",
   "execution_count": 161,
   "id": "56086423",
   "metadata": {},
   "outputs": [
    {
     "name": "stdout",
     "output_type": "stream",
     "text": [
      "[1 1 1 1 1 1]\n",
      "['pp' 'pp' 'pp' 'pp' 'pp' 'pp']\n"
     ]
    }
   ],
   "source": [
    "ppyfit = np.matmul(ppx_test,ppwght) + ppb\n",
    "ppyfitsign = np.sign(ppyfit)\n",
    "print(ppyfitsign)\n",
    "print(ppy_test)"
   ]
  },
  {
   "cell_type": "code",
   "execution_count": 162,
   "id": "ad97db6a",
   "metadata": {},
   "outputs": [
    {
     "data": {
      "text/plain": [
       "51"
      ]
     },
     "execution_count": 162,
     "metadata": {},
     "output_type": "execute_result"
    }
   ],
   "source": [
    "results = np.append(results,ppyfitsign)\n",
    "results.size"
   ]
  },
  {
   "cell_type": "code",
   "execution_count": 163,
   "id": "75685a55",
   "metadata": {},
   "outputs": [
    {
     "name": "stdout",
     "output_type": "stream",
     "text": [
      "Accuracy =  0.8823529411764706\n",
      "Error =  0.11764705882352941\n"
     ]
    }
   ],
   "source": [
    "Right = results[results == 1].size\n",
    "Wrong = results[results == -1].size\n",
    "Total = results.size\n",
    "print(\"Accuracy = \", Right/Total)\n",
    "print(\"Error = \", Wrong/Total)"
   ]
  },
  {
   "cell_type": "code",
   "execution_count": 164,
   "id": "53d4a3fc",
   "metadata": {},
   "outputs": [],
   "source": [
    "# Sklearn for mulitclass radial kernel"
   ]
  },
  {
   "cell_type": "code",
   "execution_count": 228,
   "id": "49d3e79e",
   "metadata": {},
   "outputs": [
    {
     "data": {
      "text/html": [
       "<style>#sk-container-id-3 {color: black;}#sk-container-id-3 pre{padding: 0;}#sk-container-id-3 div.sk-toggleable {background-color: white;}#sk-container-id-3 label.sk-toggleable__label {cursor: pointer;display: block;width: 100%;margin-bottom: 0;padding: 0.3em;box-sizing: border-box;text-align: center;}#sk-container-id-3 label.sk-toggleable__label-arrow:before {content: \"▸\";float: left;margin-right: 0.25em;color: #696969;}#sk-container-id-3 label.sk-toggleable__label-arrow:hover:before {color: black;}#sk-container-id-3 div.sk-estimator:hover label.sk-toggleable__label-arrow:before {color: black;}#sk-container-id-3 div.sk-toggleable__content {max-height: 0;max-width: 0;overflow: hidden;text-align: left;background-color: #f0f8ff;}#sk-container-id-3 div.sk-toggleable__content pre {margin: 0.2em;color: black;border-radius: 0.25em;background-color: #f0f8ff;}#sk-container-id-3 input.sk-toggleable__control:checked~div.sk-toggleable__content {max-height: 200px;max-width: 100%;overflow: auto;}#sk-container-id-3 input.sk-toggleable__control:checked~label.sk-toggleable__label-arrow:before {content: \"▾\";}#sk-container-id-3 div.sk-estimator input.sk-toggleable__control:checked~label.sk-toggleable__label {background-color: #d4ebff;}#sk-container-id-3 div.sk-label input.sk-toggleable__control:checked~label.sk-toggleable__label {background-color: #d4ebff;}#sk-container-id-3 input.sk-hidden--visually {border: 0;clip: rect(1px 1px 1px 1px);clip: rect(1px, 1px, 1px, 1px);height: 1px;margin: -1px;overflow: hidden;padding: 0;position: absolute;width: 1px;}#sk-container-id-3 div.sk-estimator {font-family: monospace;background-color: #f0f8ff;border: 1px dotted black;border-radius: 0.25em;box-sizing: border-box;margin-bottom: 0.5em;}#sk-container-id-3 div.sk-estimator:hover {background-color: #d4ebff;}#sk-container-id-3 div.sk-parallel-item::after {content: \"\";width: 100%;border-bottom: 1px solid gray;flex-grow: 1;}#sk-container-id-3 div.sk-label:hover label.sk-toggleable__label {background-color: #d4ebff;}#sk-container-id-3 div.sk-serial::before {content: \"\";position: absolute;border-left: 1px solid gray;box-sizing: border-box;top: 0;bottom: 0;left: 50%;z-index: 0;}#sk-container-id-3 div.sk-serial {display: flex;flex-direction: column;align-items: center;background-color: white;padding-right: 0.2em;padding-left: 0.2em;position: relative;}#sk-container-id-3 div.sk-item {position: relative;z-index: 1;}#sk-container-id-3 div.sk-parallel {display: flex;align-items: stretch;justify-content: center;background-color: white;position: relative;}#sk-container-id-3 div.sk-item::before, #sk-container-id-3 div.sk-parallel-item::before {content: \"\";position: absolute;border-left: 1px solid gray;box-sizing: border-box;top: 0;bottom: 0;left: 50%;z-index: -1;}#sk-container-id-3 div.sk-parallel-item {display: flex;flex-direction: column;z-index: 1;position: relative;background-color: white;}#sk-container-id-3 div.sk-parallel-item:first-child::after {align-self: flex-end;width: 50%;}#sk-container-id-3 div.sk-parallel-item:last-child::after {align-self: flex-start;width: 50%;}#sk-container-id-3 div.sk-parallel-item:only-child::after {width: 0;}#sk-container-id-3 div.sk-dashed-wrapped {border: 1px dashed gray;margin: 0 0.4em 0.5em 0.4em;box-sizing: border-box;padding-bottom: 0.4em;background-color: white;}#sk-container-id-3 div.sk-label label {font-family: monospace;font-weight: bold;display: inline-block;line-height: 1.2em;}#sk-container-id-3 div.sk-label-container {text-align: center;}#sk-container-id-3 div.sk-container {/* jupyter's `normalize.less` sets `[hidden] { display: none; }` but bootstrap.min.css set `[hidden] { display: none !important; }` so we also need the `!important` here to be able to override the default hidden behavior on the sphinx rendered scikit-learn.org. See: https://github.com/scikit-learn/scikit-learn/issues/21755 */display: inline-block !important;position: relative;}#sk-container-id-3 div.sk-text-repr-fallback {display: none;}</style><div id=\"sk-container-id-3\" class=\"sk-top-container\"><div class=\"sk-text-repr-fallback\"><pre>OneVsRestClassifier(estimator=SVC(kernel=&#x27;poly&#x27;))</pre><b>In a Jupyter environment, please rerun this cell to show the HTML representation or trust the notebook. <br />On GitHub, the HTML representation is unable to render, please try loading this page with nbviewer.org.</b></div><div class=\"sk-container\" hidden><div class=\"sk-item sk-dashed-wrapped\"><div class=\"sk-label-container\"><div class=\"sk-label sk-toggleable\"><input class=\"sk-toggleable__control sk-hidden--visually\" id=\"sk-estimator-id-7\" type=\"checkbox\" ><label for=\"sk-estimator-id-7\" class=\"sk-toggleable__label sk-toggleable__label-arrow\">OneVsRestClassifier</label><div class=\"sk-toggleable__content\"><pre>OneVsRestClassifier(estimator=SVC(kernel=&#x27;poly&#x27;))</pre></div></div></div><div class=\"sk-parallel\"><div class=\"sk-parallel-item\"><div class=\"sk-item\"><div class=\"sk-label-container\"><div class=\"sk-label sk-toggleable\"><input class=\"sk-toggleable__control sk-hidden--visually\" id=\"sk-estimator-id-8\" type=\"checkbox\" ><label for=\"sk-estimator-id-8\" class=\"sk-toggleable__label sk-toggleable__label-arrow\">estimator: SVC</label><div class=\"sk-toggleable__content\"><pre>SVC(kernel=&#x27;poly&#x27;)</pre></div></div></div><div class=\"sk-serial\"><div class=\"sk-item\"><div class=\"sk-estimator sk-toggleable\"><input class=\"sk-toggleable__control sk-hidden--visually\" id=\"sk-estimator-id-9\" type=\"checkbox\" ><label for=\"sk-estimator-id-9\" class=\"sk-toggleable__label sk-toggleable__label-arrow\">SVC</label><div class=\"sk-toggleable__content\"><pre>SVC(kernel=&#x27;poly&#x27;)</pre></div></div></div></div></div></div></div></div></div></div>"
      ],
      "text/plain": [
       "OneVsRestClassifier(estimator=SVC(kernel='poly'))"
      ]
     },
     "execution_count": 228,
     "metadata": {},
     "output_type": "execute_result"
    }
   ],
   "source": [
    "model = SVC(kernel = \"poly\", degree = 3)\n",
    "m = OneVsRestClassifier(model)\n",
    "m.fit(x_train,y_train)"
   ]
  },
  {
   "cell_type": "code",
   "execution_count": 229,
   "id": "58cc8f59",
   "metadata": {},
   "outputs": [
    {
     "name": "stdout",
     "output_type": "stream",
     "text": [
      "Accuracy =  0.9215686274509803\n",
      "Error =  0.07843137254901966\n"
     ]
    }
   ],
   "source": [
    "print(\"Accuracy = \", m.score(x_test,y_test) )\n",
    "print(\"Error = \", 1 - m.score(x_test,y_test))"
   ]
  },
  {
   "cell_type": "code",
   "execution_count": null,
   "id": "e6344942",
   "metadata": {},
   "outputs": [],
   "source": [
    "# It looks like are polynomial kernel multiclass classification and the SKlearn polynomial kernel classifier have\n",
    "# very similar Accuracy levels of 0.88 for our own version and 0.92 for the sklearn version."
   ]
  },
  {
   "cell_type": "code",
   "execution_count": null,
   "id": "ef9c86a3",
   "metadata": {},
   "outputs": [],
   "source": []
  },
  {
   "cell_type": "code",
   "execution_count": 165,
   "id": "f0dca58b",
   "metadata": {},
   "outputs": [],
   "source": [
    "#Radial"
   ]
  },
  {
   "cell_type": "code",
   "execution_count": 166,
   "id": "5b254943",
   "metadata": {},
   "outputs": [],
   "source": [
    "results = np.array([])"
   ]
  },
  {
   "cell_type": "code",
   "execution_count": 167,
   "id": "576b1c30",
   "metadata": {},
   "outputs": [],
   "source": [
    "#CP vs all"
   ]
  },
  {
   "cell_type": "code",
   "execution_count": 168,
   "id": "6cc3075b",
   "metadata": {},
   "outputs": [],
   "source": [
    "def cpvsall(X,Y):\n",
    "    #Creating data\n",
    "    cp = 'cp'\n",
    "    im = 'im'\n",
    "    ms = \"mS\"\n",
    "    ml = \"mL\"\n",
    "    mu = \"mU\"\n",
    "    om = \"om\"\n",
    "    pp = \"pp\"\n",
    "\n",
    "\n",
    "    whereiscp = np.where(Y==cp)[0]\n",
    "    whereisim = np.where(Y==im)[0]\n",
    "    whereisms = np.where(Y==ms)[0]\n",
    "    whereisml = np.where(Y==ml)[0]\n",
    "    whereismu = np.where(Y==mu)[0]\n",
    "    whereisom = np.where(Y==om)[0]\n",
    "    whereispp = np.where(Y==pp)[0]\n",
    "\n",
    "    indxall = np.concatenate((whereiscp,whereisim,whereisms,whereisml,whereismu,whereisom,whereispp))\n",
    "    \n",
    "    Xall = X[indxall]\n",
    "    Yall = np.ones(len(indxall))\n",
    "    Yall[whereisim] =-1\n",
    "    Yall[whereisms] =-1\n",
    "    Yall[whereisml] =-1\n",
    "    Yall[whereismu] =-1\n",
    "    Yall[whereisom] =-1\n",
    "    Yall[whereispp] =-1\n",
    "\n",
    "    xdual_train, xdual_test, ydual_train, ydual_test = train_test_split(Xall, Yall, test_size = 0.15, random_state=44)\n",
    "    \n",
    "    #Creating Classifier\n",
    "    N = len(ydual_train)\n",
    "    XPY = xdual_train.copy()\n",
    "    for i in range(N):\n",
    "       if ydual_train[i]==-1:\n",
    "          XPY[i,:] =-1 * XPY[i,:]   \n",
    "\n",
    "    A = np.exp(-(LA.norm(XPY-XPY)**2)/np.var(XPY))\n",
    "\n",
    "    #YM = np.outer(ydual_train[1:],ydual_train[1:])\n",
    "    #AY = np.outer(A[0,1:],ydual_train[1:])\n",
    "    #YA = np.outer(ydual_train[1:],A[0,1:])\n",
    "\n",
    "\n",
    "    #Y0S = ydual_train[0]**2\n",
    "    #M = A[1:,1:] + A[0,0]*YM/Y0S - AY/ydual_train[0] - YA/ydual_train[0]\n",
    "    \n",
    "    aw = np.zeros(N)\n",
    "\n",
    "    bright = np.zeros(N)\n",
    "    bright = 1 - ydual_train/ydual_train[0]\n",
    "\n",
    "    adiag = A\n",
    "    t1    = A\n",
    "    t2    = 2*np.multiply(A,ydual_train)/ydual_train[0]\n",
    "    t3    = adiag + t1 - t2\n",
    "    indxnzero = np.where(t3 != 0)\n",
    "    aw[indxnzero[0]]    = np.divide(bright[indxnzero],t3[indxnzero])\n",
    "    aw[0] =-sum(ydual_train[indxnzero]*aw[indxnzero])/ydual_train[0]\n",
    "    \n",
    "    YA = np.zeros(N)\n",
    "    YA[0] = ydual_train[0]*aw[0]\n",
    "    YA[indxnzero] = ydual_train[indxnzero]*aw[indxnzero]\n",
    "    wght = sum(xdual_train * YA[:,None])\n",
    "    b =sum(ydual_train - np.matmul(xdual_train,wght))/N\n",
    "    \n",
    "    #Creating fit\n",
    "    yfit = np.matmul(xdual_test,wght) + b\n",
    "    yfitsign = np.sign(yfit)\n",
    "    ydiff = yfitsign - np.asfarray(ydual_test)\n",
    "    wherediff = np.where(ydiff != 0)\n",
    "    \n",
    "    return wherediff[0], wght, ydual_test, b"
   ]
  },
  {
   "cell_type": "code",
   "execution_count": 169,
   "id": "65fe30e8",
   "metadata": {},
   "outputs": [],
   "source": [
    "cpwherediff, cpwght, cpydual_test, cpb = cpvsall(X,Y)"
   ]
  },
  {
   "cell_type": "code",
   "execution_count": 170,
   "id": "b89ceb57",
   "metadata": {},
   "outputs": [
    {
     "name": "stdout",
     "output_type": "stream",
     "text": [
      "0.1568627450980392\n"
     ]
    }
   ],
   "source": [
    "print(len(cpwherediff)/len(cpydual_test))"
   ]
  },
  {
   "cell_type": "code",
   "execution_count": 171,
   "id": "faf55f6b",
   "metadata": {},
   "outputs": [],
   "source": [
    "#creating fit on main test for cp"
   ]
  },
  {
   "cell_type": "code",
   "execution_count": 172,
   "id": "5430192c",
   "metadata": {},
   "outputs": [],
   "source": [
    "cpx_test = x_test[np.where(y_test == \"cp\")[0]]\n",
    "cpy_test = y_test[np.where(y_test == \"cp\")[0]]"
   ]
  },
  {
   "cell_type": "code",
   "execution_count": 173,
   "id": "9610761a",
   "metadata": {},
   "outputs": [
    {
     "name": "stdout",
     "output_type": "stream",
     "text": [
      "[1 1 1 -1 1 1 -1 1 1 1 1 1 1 1 1 1 1 1 1 1 1 1 1 1 1 1 1 1 -1]\n",
      "['cp' 'cp' 'cp' 'cp' 'cp' 'cp' 'cp' 'cp' 'cp' 'cp' 'cp' 'cp' 'cp' 'cp'\n",
      " 'cp' 'cp' 'cp' 'cp' 'cp' 'cp' 'cp' 'cp' 'cp' 'cp' 'cp' 'cp' 'cp' 'cp'\n",
      " 'cp']\n"
     ]
    }
   ],
   "source": [
    "cpyfit = np.matmul(cpx_test,cpwght) + cpb\n",
    "cpyfitsign = np.sign(cpyfit)\n",
    "print(cpyfitsign)\n",
    "print(cpy_test)"
   ]
  },
  {
   "cell_type": "code",
   "execution_count": 174,
   "id": "d90ce2ca",
   "metadata": {},
   "outputs": [],
   "source": [
    "results = np.append(results,cpyfitsign)"
   ]
  },
  {
   "cell_type": "code",
   "execution_count": 175,
   "id": "1fec2208",
   "metadata": {},
   "outputs": [],
   "source": [
    "#im vs all"
   ]
  },
  {
   "cell_type": "code",
   "execution_count": 176,
   "id": "96e18458",
   "metadata": {},
   "outputs": [],
   "source": [
    "def imvsall(X,Y):\n",
    "    #Creating data\n",
    "    cp = 'cp'\n",
    "    im = 'im'\n",
    "    ms = \"mS\"\n",
    "    ml = \"mL\"\n",
    "    mu = \"mU\"\n",
    "    om = \"om\"\n",
    "    pp = \"pp\"\n",
    "\n",
    "\n",
    "    whereiscp = np.where(Y==cp)[0]\n",
    "    whereisim = np.where(Y==im)[0]\n",
    "    whereisms = np.where(Y==ms)[0]\n",
    "    whereisml = np.where(Y==ml)[0]\n",
    "    whereismu = np.where(Y==mu)[0]\n",
    "    whereisom = np.where(Y==om)[0]\n",
    "    whereispp = np.where(Y==pp)[0]\n",
    "\n",
    "    indxall = np.concatenate((whereiscp,whereisim,whereisms,whereisml,whereismu,whereisom,whereispp))\n",
    "    \n",
    "    Xall = X[indxall]\n",
    "    Yall = np.ones(len(indxall))\n",
    "    Yall[whereiscp] =-1\n",
    "    Yall[whereisms] =-1\n",
    "    Yall[whereisml] =-1\n",
    "    Yall[whereismu] =-1\n",
    "    Yall[whereisom] =-1\n",
    "    Yall[whereispp] =-1\n",
    "\n",
    "    xdual_train, xdual_test, ydual_train, ydual_test = train_test_split(Xall, Yall, test_size = 0.15, random_state=44)\n",
    "    \n",
    "    #Creating Classifier\n",
    "    N = len(ydual_train)\n",
    "    XPY = xdual_train.copy()\n",
    "    for i in range(N):\n",
    "       if ydual_train[i]==-1:\n",
    "          XPY[i,:] =-1 * XPY[i,:]   \n",
    "\n",
    "    A = np.exp(-(LA.norm(XPY-XPY)**2)/np.var(XPY))\n",
    "\n",
    "    #YM = np.outer(ydual_train[1:],ydual_train[1:])\n",
    "    #AY = np.outer(A[0,1:],ydual_train[1:])\n",
    "    #YA = np.outer(ydual_train[1:],A[0,1:])\n",
    "\n",
    "\n",
    "    #Y0S = ydual_train[0]**2\n",
    "    #M = A[1:,1:] + A[0,0]*YM/Y0S - AY/ydual_train[0] - YA/ydual_train[0]\n",
    "    \n",
    "    aw = np.zeros(N)\n",
    "\n",
    "    bright = np.zeros(N)\n",
    "    bright = 1 - ydual_train/ydual_train[0]\n",
    "\n",
    "    adiag = A\n",
    "    t1    = A\n",
    "    t2    = 2*np.multiply(A,ydual_train)/ydual_train[0]\n",
    "    t3    = adiag + t1 - t2\n",
    "    indxnzero = np.where(t3 != 0)\n",
    "    aw[indxnzero[0]]    = np.divide(bright[indxnzero],t3[indxnzero])\n",
    "    aw[0] =-sum(ydual_train[indxnzero]*aw[indxnzero])/ydual_train[0]\n",
    "    \n",
    "    YA = np.zeros(N)\n",
    "    YA[0] = ydual_train[0]*aw[0]\n",
    "    YA[indxnzero] = ydual_train[indxnzero]*aw[indxnzero]\n",
    "    wght = sum(xdual_train * YA[:,None])\n",
    "    b =sum(ydual_train - np.matmul(xdual_train,wght))/N\n",
    "    \n",
    "    #Creating fit\n",
    "    yfit = np.matmul(xdual_test,wght) + b\n",
    "    yfitsign = np.sign(yfit)\n",
    "    ydiff = yfitsign - np.asfarray(ydual_test)\n",
    "    wherediff = np.where(ydiff != 0)\n",
    "    \n",
    "    return wherediff[0], wght, ydual_test, b"
   ]
  },
  {
   "cell_type": "code",
   "execution_count": 177,
   "id": "d2d698ea",
   "metadata": {},
   "outputs": [],
   "source": [
    "imwherediff, imwght, imydual_test, imb = imvsall(X,Y)"
   ]
  },
  {
   "cell_type": "code",
   "execution_count": 178,
   "id": "c8bdcb31",
   "metadata": {},
   "outputs": [
    {
     "name": "stdout",
     "output_type": "stream",
     "text": [
      "0.2549019607843137\n"
     ]
    }
   ],
   "source": [
    "print(len(imwherediff)/len(imydual_test))"
   ]
  },
  {
   "cell_type": "code",
   "execution_count": 179,
   "id": "c21d416d",
   "metadata": {},
   "outputs": [],
   "source": [
    "#creating fit on main test for im"
   ]
  },
  {
   "cell_type": "code",
   "execution_count": 180,
   "id": "59776939",
   "metadata": {},
   "outputs": [],
   "source": [
    "imx_test = x_test[np.where(y_test == \"im\")[0]]\n",
    "imy_test = y_test[np.where(y_test == \"im\")[0]]"
   ]
  },
  {
   "cell_type": "code",
   "execution_count": 181,
   "id": "b66b0b4e",
   "metadata": {},
   "outputs": [
    {
     "name": "stdout",
     "output_type": "stream",
     "text": [
      "[1 1 1 1 -1 1 1 1]\n",
      "['im' 'im' 'im' 'im' 'im' 'im' 'im' 'im']\n"
     ]
    }
   ],
   "source": [
    "imyfit = np.matmul(imx_test,imwght) + imb\n",
    "imyfitsign = np.sign(imyfit)\n",
    "print(imyfitsign)\n",
    "print(imy_test)"
   ]
  },
  {
   "cell_type": "code",
   "execution_count": 182,
   "id": "05a08989",
   "metadata": {},
   "outputs": [],
   "source": [
    "results = np.append(results,imyfitsign)"
   ]
  },
  {
   "cell_type": "code",
   "execution_count": 183,
   "id": "3ddcd15c",
   "metadata": {},
   "outputs": [],
   "source": [
    "#ms va all"
   ]
  },
  {
   "cell_type": "code",
   "execution_count": 184,
   "id": "3affebea",
   "metadata": {},
   "outputs": [],
   "source": [
    "def msvsall(X,Y):\n",
    "    #Creating data\n",
    "    cp = 'cp'\n",
    "    im = 'im'\n",
    "    ms = \"mS\"\n",
    "    ml = \"mL\"\n",
    "    mu = \"mU\"\n",
    "    om = \"om\"\n",
    "    pp = \"pp\"\n",
    "\n",
    "\n",
    "    whereiscp = np.where(Y==cp)[0]\n",
    "    whereisim = np.where(Y==im)[0]\n",
    "    whereisms = np.where(Y==ms)[0]\n",
    "    whereisml = np.where(Y==ml)[0]\n",
    "    whereismu = np.where(Y==mu)[0]\n",
    "    whereisom = np.where(Y==om)[0]\n",
    "    whereispp = np.where(Y==pp)[0]\n",
    "\n",
    "    indxall = np.concatenate((whereiscp,whereisim,whereisms,whereisml,whereismu,whereisom,whereispp))\n",
    "    \n",
    "    Xall = X[indxall]\n",
    "    Yall = np.ones(len(indxall))\n",
    "    Yall[whereiscp] =-1\n",
    "    Yall[whereisim] =-1\n",
    "    Yall[whereisml] =-1\n",
    "    Yall[whereismu] =-1\n",
    "    Yall[whereisom] =-1\n",
    "    Yall[whereispp] =-1\n",
    "\n",
    "    xdual_train, xdual_test, ydual_train, ydual_test = train_test_split(Xall, Yall, test_size = 0.15, random_state=44)\n",
    "    \n",
    "    #Creating Classifier\n",
    "    N = len(ydual_train)\n",
    "    XPY = xdual_train.copy()\n",
    "    for i in range(N):\n",
    "       if ydual_train[i]==-1:\n",
    "          XPY[i,:] =-1 * XPY[i,:]   \n",
    "\n",
    "    A = np.exp(-(LA.norm(XPY-XPY)**2)/np.var(XPY))\n",
    "\n",
    "    #YM = np.outer(ydual_train[1:],ydual_train[1:])\n",
    "    #AY = np.outer(A[0,1:],ydual_train[1:])\n",
    "    #YA = np.outer(ydual_train[1:],A[0,1:])\n",
    "\n",
    "\n",
    "    #Y0S = ydual_train[0]**2\n",
    "    #M = A[1:,1:] + A[0,0]*YM/Y0S - AY/ydual_train[0] - YA/ydual_train[0]\n",
    "    \n",
    "    aw = np.zeros(N)\n",
    "\n",
    "    bright = np.zeros(N)\n",
    "    bright = 1 - ydual_train/ydual_train[0]\n",
    "\n",
    "    adiag = A\n",
    "    t1    = A\n",
    "    t2    = 2*np.multiply(A,ydual_train)/ydual_train[0]\n",
    "    t3    = adiag + t1 - t2\n",
    "    indxnzero = np.where(t3 != 0)\n",
    "    aw[indxnzero[0]]    = np.divide(bright[indxnzero],t3[indxnzero])\n",
    "    aw[0] =-sum(ydual_train[indxnzero]*aw[indxnzero])/ydual_train[0]\n",
    "    \n",
    "    YA = np.zeros(N)\n",
    "    YA[0] = ydual_train[0]*aw[0]\n",
    "    YA[indxnzero] = ydual_train[indxnzero]*aw[indxnzero]\n",
    "    wght = sum(xdual_train * YA[:,None])\n",
    "    b =sum(ydual_train - np.matmul(xdual_train,wght))/N\n",
    "    \n",
    "    #Creating fit\n",
    "    yfit = np.matmul(xdual_test,wght) + b\n",
    "    yfitsign = np.sign(yfit)\n",
    "    ydiff = yfitsign - np.asfarray(ydual_test)\n",
    "    wherediff = np.where(ydiff != 0)\n",
    "    \n",
    "    return wherediff[0], wght, ydual_test, b"
   ]
  },
  {
   "cell_type": "code",
   "execution_count": 185,
   "id": "2176343d",
   "metadata": {},
   "outputs": [],
   "source": [
    "mswherediff, mswght, msydual_test, msb = msvsall(X,Y)"
   ]
  },
  {
   "cell_type": "code",
   "execution_count": 186,
   "id": "a0258401",
   "metadata": {},
   "outputs": [
    {
     "name": "stdout",
     "output_type": "stream",
     "text": [
      "0.0196078431372549\n"
     ]
    }
   ],
   "source": [
    "print(len(mswherediff)/len(msydual_test))"
   ]
  },
  {
   "cell_type": "code",
   "execution_count": 187,
   "id": "b5578692",
   "metadata": {},
   "outputs": [],
   "source": [
    "#creating fit on main test for ms"
   ]
  },
  {
   "cell_type": "code",
   "execution_count": 188,
   "id": "9ccb7f98",
   "metadata": {},
   "outputs": [],
   "source": [
    "msx_test = x_test[np.where(y_test == \"mS\")[0]]\n",
    "msy_test = y_test[np.where(y_test == \"mS\")[0]]"
   ]
  },
  {
   "cell_type": "code",
   "execution_count": 189,
   "id": "c20fbeeb",
   "metadata": {},
   "outputs": [
    {
     "name": "stdout",
     "output_type": "stream",
     "text": [
      "[]\n",
      "[]\n"
     ]
    }
   ],
   "source": [
    "msyfit = np.matmul(msx_test,mswght) + msb\n",
    "msyfitsign = np.sign(msyfit)\n",
    "print(msyfitsign)\n",
    "print(msy_test)"
   ]
  },
  {
   "cell_type": "code",
   "execution_count": 190,
   "id": "eeff0774",
   "metadata": {},
   "outputs": [],
   "source": [
    "results = np.append(results,msyfitsign)"
   ]
  },
  {
   "cell_type": "code",
   "execution_count": 191,
   "id": "49e89ed6",
   "metadata": {},
   "outputs": [],
   "source": [
    "#ml vs all"
   ]
  },
  {
   "cell_type": "code",
   "execution_count": 192,
   "id": "18021a75",
   "metadata": {},
   "outputs": [],
   "source": [
    "def mlvsall(X,Y):\n",
    "    #Creating data\n",
    "    cp = 'cp'\n",
    "    im = 'im'\n",
    "    ms = \"mS\"\n",
    "    ml = \"mL\"\n",
    "    mu = \"mU\"\n",
    "    om = \"om\"\n",
    "    pp = \"pp\"\n",
    "\n",
    "\n",
    "    whereiscp = np.where(Y==cp)[0]\n",
    "    whereisim = np.where(Y==im)[0]\n",
    "    whereisms = np.where(Y==ms)[0]\n",
    "    whereisml = np.where(Y==ml)[0]\n",
    "    whereismu = np.where(Y==mu)[0]\n",
    "    whereisom = np.where(Y==om)[0]\n",
    "    whereispp = np.where(Y==pp)[0]\n",
    "\n",
    "    indxall = np.concatenate((whereiscp,whereisim,whereisms,whereisml,whereismu,whereisom,whereispp))\n",
    "    \n",
    "    Xall = X[indxall]\n",
    "    Yall = np.ones(len(indxall))\n",
    "    Yall[whereiscp] =-1\n",
    "    Yall[whereisim] =-1\n",
    "    Yall[whereisms] =-1\n",
    "    Yall[whereismu] =-1\n",
    "    Yall[whereisom] =-1\n",
    "    Yall[whereispp] =-1\n",
    "\n",
    "    xdual_train, xdual_test, ydual_train, ydual_test = train_test_split(Xall, Yall, test_size = 0.15, random_state=44)\n",
    "    \n",
    "    #Creating Classifier\n",
    "    N = len(ydual_train)\n",
    "    XPY = xdual_train.copy()\n",
    "    for i in range(N):\n",
    "       if ydual_train[i]==-1:\n",
    "          XPY[i,:] =-1 * XPY[i,:]   \n",
    "\n",
    "    A = np.exp(-(LA.norm(XPY-XPY)**2)/np.var(XPY))\n",
    "    \n",
    "    #YM = np.outer(ydual_train[1:],ydual_train[1:])\n",
    "    #AY = np.outer(A[0,1:],ydual_train[1:])\n",
    "    #YA = np.outer(ydual_train[1:],A[0,1:])\n",
    "\n",
    "\n",
    "    #Y0S = ydual_train[0]**2\n",
    "    #M = A[1:,1:] + A[0,0]*YM/Y0S - AY/ydual_train[0] - YA/ydual_train[0]\n",
    "    \n",
    "    aw = np.zeros(N)\n",
    "\n",
    "    bright = np.zeros(N)\n",
    "    bright = 1 - ydual_train/ydual_train[0]\n",
    "\n",
    "    adiag = A\n",
    "    t1    = A\n",
    "    t2    = 2*np.multiply(A,ydual_train)/ydual_train[0]\n",
    "    t3    = adiag + t1 - t2\n",
    "    indxnzero = np.where(t3 != 0)\n",
    "    aw[indxnzero[0]]    = np.divide(bright[indxnzero],t3[indxnzero])\n",
    "    aw[0] =-sum(ydual_train[indxnzero]*aw[indxnzero])/ydual_train[0]\n",
    "    \n",
    "    YA = np.zeros(N)\n",
    "    YA[0] = ydual_train[0]*aw[0]\n",
    "    YA[indxnzero] = ydual_train[indxnzero]*aw[indxnzero]\n",
    "    wght = sum(xdual_train * YA[:,None])\n",
    "    b =sum(ydual_train - np.matmul(xdual_train,wght))/N\n",
    "    \n",
    "    #Creating fit\n",
    "    yfit = np.matmul(xdual_test,wght) + b\n",
    "    yfitsign = np.sign(yfit)\n",
    "    ydiff = yfitsign - np.asfarray(ydual_test)\n",
    "    wherediff = np.where(ydiff != 0)\n",
    "    \n",
    "    return wherediff[0], wght, ydual_test, b"
   ]
  },
  {
   "cell_type": "code",
   "execution_count": 193,
   "id": "f6db0303",
   "metadata": {},
   "outputs": [],
   "source": [
    "mlwherediff, mlwght, mlydual_test, mlb = mlvsall(X,Y)"
   ]
  },
  {
   "cell_type": "code",
   "execution_count": 194,
   "id": "3a31d14b",
   "metadata": {},
   "outputs": [
    {
     "name": "stdout",
     "output_type": "stream",
     "text": [
      "0.0392156862745098\n"
     ]
    }
   ],
   "source": [
    "print(len(mlwherediff)/len(mlydual_test))"
   ]
  },
  {
   "cell_type": "code",
   "execution_count": 195,
   "id": "27e57471",
   "metadata": {},
   "outputs": [],
   "source": [
    "#creating fit on main test for ml"
   ]
  },
  {
   "cell_type": "code",
   "execution_count": 196,
   "id": "387a3c39",
   "metadata": {},
   "outputs": [],
   "source": [
    "mlx_test = x_test[np.where(y_test == \"mL\")[0]]\n",
    "mly_test = y_test[np.where(y_test == \"mL\")[0]]"
   ]
  },
  {
   "cell_type": "code",
   "execution_count": 197,
   "id": "d90cbac0",
   "metadata": {},
   "outputs": [
    {
     "name": "stdout",
     "output_type": "stream",
     "text": [
      "[-1]\n",
      "['mL']\n"
     ]
    }
   ],
   "source": [
    "mlyfit = np.matmul(mlx_test,mlwght) + mlb\n",
    "mlyfitsign = np.sign(mlyfit)\n",
    "print(mlyfitsign)\n",
    "print(mly_test)"
   ]
  },
  {
   "cell_type": "code",
   "execution_count": 198,
   "id": "fc6c4a86",
   "metadata": {},
   "outputs": [],
   "source": [
    "results = np.append(results,mlyfitsign)"
   ]
  },
  {
   "cell_type": "code",
   "execution_count": 199,
   "id": "adfca8bd",
   "metadata": {},
   "outputs": [],
   "source": [
    "#mu vs all"
   ]
  },
  {
   "cell_type": "code",
   "execution_count": 200,
   "id": "4d5aec54",
   "metadata": {},
   "outputs": [],
   "source": [
    "def muvsall(X,Y):\n",
    "    #Creating data\n",
    "    cp = 'cp'\n",
    "    im = 'im'\n",
    "    ms = \"mS\"\n",
    "    ml = \"mL\"\n",
    "    mu = \"mU\"\n",
    "    om = \"om\"\n",
    "    pp = \"pp\"\n",
    "\n",
    "\n",
    "    whereiscp = np.where(Y==cp)[0]\n",
    "    whereisim = np.where(Y==im)[0]\n",
    "    whereisms = np.where(Y==ms)[0]\n",
    "    whereisml = np.where(Y==ml)[0]\n",
    "    whereismu = np.where(Y==mu)[0]\n",
    "    whereisom = np.where(Y==om)[0]\n",
    "    whereispp = np.where(Y==pp)[0]\n",
    "\n",
    "    indxall = np.concatenate((whereiscp,whereisim,whereisms,whereisml,whereismu,whereisom,whereispp))\n",
    "    \n",
    "    Xall = X[indxall]\n",
    "    Yall = np.ones(len(indxall))\n",
    "    Yall[whereiscp] =-1\n",
    "    Yall[whereisim] =-1\n",
    "    Yall[whereisms] =-1\n",
    "    Yall[whereisml] =-1\n",
    "    Yall[whereisom] =-1\n",
    "    Yall[whereispp] =-1\n",
    "\n",
    "    xdual_train, xdual_test, ydual_train, ydual_test = train_test_split(Xall, Yall, test_size = 0.15, random_state=44)\n",
    "    \n",
    "    #Creating Classifier\n",
    "    N = len(ydual_train)\n",
    "    XPY = xdual_train.copy()\n",
    "    for i in range(N):\n",
    "       if ydual_train[i]==-1:\n",
    "          XPY[i,:] =-1 * XPY[i,:]   \n",
    "\n",
    "    A = np.exp(-(LA.norm(XPY-XPY)**2)/np.var(XPY))\n",
    "\n",
    "    #YM = np.outer(ydual_train[1:],ydual_train[1:])\n",
    "    #AY = np.outer(A[0,1:],ydual_train[1:])\n",
    "    #YA = np.outer(ydual_train[1:],A[0,1:])\n",
    "\n",
    "\n",
    "    #Y0S = ydual_train[0]**2\n",
    "    #M = A[1:,1:] + A[0,0]*YM/Y0S - AY/ydual_train[0] - YA/ydual_train[0]\n",
    "    \n",
    "    aw = np.zeros(N)\n",
    "\n",
    "    bright = np.zeros(N)\n",
    "    bright = 1 - ydual_train/ydual_train[0]\n",
    "\n",
    "    adiag = A\n",
    "    t1    = A\n",
    "    t2    = 2*np.multiply(A,ydual_train)/ydual_train[0]\n",
    "    t3    = adiag + t1 - t2\n",
    "    indxnzero = np.where(t3 != 0)\n",
    "    aw[indxnzero[0]]    = np.divide(bright[indxnzero],t3[indxnzero])\n",
    "    aw[0] =-sum(ydual_train[indxnzero]*aw[indxnzero])/ydual_train[0]\n",
    "    \n",
    "    YA = np.zeros(N)\n",
    "    YA[0] = ydual_train[0]*aw[0]\n",
    "    YA[indxnzero] = ydual_train[indxnzero]*aw[indxnzero]\n",
    "    wght = sum(xdual_train * YA[:,None])\n",
    "    b =sum(ydual_train - np.matmul(xdual_train,wght))/N\n",
    "    \n",
    "    #Creating fit\n",
    "    yfit = np.matmul(xdual_test,wght) + b\n",
    "    yfitsign = np.sign(yfit)\n",
    "    ydiff = yfitsign - np.asfarray(ydual_test)\n",
    "    wherediff = np.where(ydiff != 0)\n",
    "    \n",
    "    return wherediff[0], wght, ydual_test, b"
   ]
  },
  {
   "cell_type": "code",
   "execution_count": 201,
   "id": "b351be18",
   "metadata": {},
   "outputs": [],
   "source": [
    "muwherediff, muwght, muydual_test, mub = muvsall(X,Y)"
   ]
  },
  {
   "cell_type": "code",
   "execution_count": 202,
   "id": "dd9a281f",
   "metadata": {},
   "outputs": [
    {
     "name": "stdout",
     "output_type": "stream",
     "text": [
      "0.2549019607843137\n",
      "[-1. -1. -1. -1. -1. -1.  1. -1. -1. -1. -1. -1. -1. -1. -1. -1. -1. -1.\n",
      " -1. -1. -1.  1. -1. -1. -1. -1. -1. -1.  1. -1. -1.  1. -1. -1. -1. -1.\n",
      "  1. -1. -1.  1. -1. -1.  1. -1. -1. -1. -1. -1. -1. -1. -1.]\n",
      "['mL' 'cp' 'mU' 'cp' 'cp' 'mU' 'cp' 'pp' 'cp' 'pp' 'pp' 'cp' 'im' 'cp'\n",
      " 'cp' 'pp' 'cp' 'cp' 'im' 'cp' 'mU' 'om' 'cp' 'cp' 'cp' 'im' 'cp' 'im'\n",
      " 'cp' 'cp' 'cp' 'cp' 'cp' 'cp' 'mU' 'cp' 'om' 'mU' 'cp' 'pp' 'cp' 'cp'\n",
      " 'cp' 'pp' 'cp' 'im' 'im' 'im' 'cp' 'cp' 'im']\n"
     ]
    }
   ],
   "source": [
    "print(len(muwherediff)/len(muydual_test))\n",
    "print(muydual_test)\n",
    "print(y_test)"
   ]
  },
  {
   "cell_type": "code",
   "execution_count": 203,
   "id": "68fd9627",
   "metadata": {},
   "outputs": [],
   "source": [
    "#creating fit on main test for mu"
   ]
  },
  {
   "cell_type": "code",
   "execution_count": 204,
   "id": "9d36cd61",
   "metadata": {},
   "outputs": [],
   "source": [
    "mux_test = x_test[np.where(y_test == \"mU\")[0]]\n",
    "muy_test = y_test[np.where(y_test == \"mU\")[0]]"
   ]
  },
  {
   "cell_type": "code",
   "execution_count": 205,
   "id": "95c80c42",
   "metadata": {},
   "outputs": [
    {
     "name": "stdout",
     "output_type": "stream",
     "text": [
      "[1 1 1 1 1]\n",
      "['mU' 'mU' 'mU' 'mU' 'mU']\n"
     ]
    }
   ],
   "source": [
    "muyfit = np.matmul(mux_test,muwght) + mub\n",
    "muyfitsign = np.sign(muyfit)\n",
    "print(muyfitsign)\n",
    "print(muy_test)"
   ]
  },
  {
   "cell_type": "code",
   "execution_count": 206,
   "id": "957e715b",
   "metadata": {},
   "outputs": [],
   "source": [
    "results = np.append(results,muyfitsign)"
   ]
  },
  {
   "cell_type": "code",
   "execution_count": 207,
   "id": "0347e29d",
   "metadata": {},
   "outputs": [],
   "source": [
    "#om vs all"
   ]
  },
  {
   "cell_type": "code",
   "execution_count": 208,
   "id": "67ce40bf",
   "metadata": {},
   "outputs": [],
   "source": [
    "def omvsall(X,Y):\n",
    "    #Creating data\n",
    "    cp = 'cp'\n",
    "    im = 'im'\n",
    "    ms = \"mS\"\n",
    "    ml = \"mL\"\n",
    "    mu = \"mU\"\n",
    "    om = \"om\"\n",
    "    pp = \"pp\"\n",
    "\n",
    "\n",
    "    whereiscp = np.where(Y==cp)[0]\n",
    "    whereisim = np.where(Y==im)[0]\n",
    "    whereisms = np.where(Y==ms)[0]\n",
    "    whereisml = np.where(Y==ml)[0]\n",
    "    whereismu = np.where(Y==mu)[0]\n",
    "    whereisom = np.where(Y==om)[0]\n",
    "    whereispp = np.where(Y==pp)[0]\n",
    "\n",
    "    indxall = np.concatenate((whereiscp,whereisim,whereisms,whereisml,whereismu,whereisom,whereispp))\n",
    "    \n",
    "    Xall = X[indxall]\n",
    "    Yall = np.ones(len(indxall))\n",
    "    Yall[whereiscp] =-1\n",
    "    Yall[whereisim] =-1\n",
    "    Yall[whereisms] =-1\n",
    "    Yall[whereisml] =-1\n",
    "    Yall[whereismu] =-1\n",
    "    Yall[whereispp] =-1\n",
    "\n",
    "    xdual_train, xdual_test, ydual_train, ydual_test = train_test_split(Xall, Yall, test_size = 0.15, random_state=44)\n",
    "    \n",
    "    #Creating Classifier\n",
    "    N = len(ydual_train)\n",
    "    XPY = xdual_train.copy()\n",
    "    for i in range(N):\n",
    "       if ydual_train[i]==-1:\n",
    "          XPY[i,:] =-1 * XPY[i,:]   \n",
    "\n",
    "    A = np.exp(-(LA.norm(XPY-XPY)**2)/np.var(XPY))\n",
    "\n",
    "    #YM = np.outer(ydual_train[1:],ydual_train[1:])\n",
    "    #AY = np.outer(A[0,1:],ydual_train[1:])\n",
    "    #YA = np.outer(ydual_train[1:],A[0,1:])\n",
    "\n",
    "\n",
    "    #Y0S = ydual_train[0]**2\n",
    "    #M = A[1:,1:] + A[0,0]*YM/Y0S - AY/ydual_train[0] - YA/ydual_train[0]\n",
    "    \n",
    "    aw = np.zeros(N)\n",
    "\n",
    "    bright = np.zeros(N)\n",
    "    bright = 1 - ydual_train/ydual_train[0]\n",
    "\n",
    "    adiag = A\n",
    "    t1    = A\n",
    "    t2    = 2*np.multiply(A,ydual_train)/ydual_train[0]\n",
    "    t3    = adiag + t1 - t2\n",
    "    indxnzero = np.where(t3 != 0)\n",
    "    aw[indxnzero[0]]    = np.divide(bright[indxnzero],t3[indxnzero])\n",
    "    aw[0] =-sum(ydual_train[indxnzero]*aw[indxnzero])/ydual_train[0]\n",
    "    \n",
    "    YA = np.zeros(N)\n",
    "    YA[0] = ydual_train[0]*aw[0]\n",
    "    YA[indxnzero] = ydual_train[indxnzero]*aw[indxnzero]\n",
    "    wght = sum(xdual_train * YA[:,None])\n",
    "    b =sum(ydual_train - np.matmul(xdual_train,wght))/N\n",
    "    \n",
    "    #Creating fit\n",
    "    yfit = np.matmul(xdual_test,wght) + b\n",
    "    yfitsign = np.sign(yfit)\n",
    "    ydiff = yfitsign - np.asfarray(ydual_test)\n",
    "    wherediff = np.where(ydiff != 0)\n",
    "    \n",
    "    return wherediff[0], wght, ydual_test, b"
   ]
  },
  {
   "cell_type": "code",
   "execution_count": 209,
   "id": "0415f94e",
   "metadata": {},
   "outputs": [],
   "source": [
    "omwherediff, omwght, omydual_test, omb = omvsall(X,Y)"
   ]
  },
  {
   "cell_type": "code",
   "execution_count": 210,
   "id": "6bcbbd68",
   "metadata": {},
   "outputs": [
    {
     "name": "stdout",
     "output_type": "stream",
     "text": [
      "0.09803921568627451\n"
     ]
    }
   ],
   "source": [
    "print(len(omwherediff)/len(omydual_test))"
   ]
  },
  {
   "cell_type": "code",
   "execution_count": 211,
   "id": "9ab32ba5",
   "metadata": {},
   "outputs": [],
   "source": [
    "#creating fit on main test for om"
   ]
  },
  {
   "cell_type": "code",
   "execution_count": 212,
   "id": "37f102ab",
   "metadata": {},
   "outputs": [],
   "source": [
    "omx_test = x_test[np.where(y_test == \"om\")[0]]\n",
    "omy_test = y_test[np.where(y_test == \"om\")[0]]"
   ]
  },
  {
   "cell_type": "code",
   "execution_count": 213,
   "id": "f4e6a612",
   "metadata": {},
   "outputs": [
    {
     "name": "stdout",
     "output_type": "stream",
     "text": [
      "[1 1]\n",
      "['om' 'om']\n"
     ]
    }
   ],
   "source": [
    "omyfit = np.matmul(omx_test,omwght) + omb\n",
    "omyfitsign = np.sign(omyfit)\n",
    "print(omyfitsign)\n",
    "print(omy_test)"
   ]
  },
  {
   "cell_type": "code",
   "execution_count": 214,
   "id": "c86a4914",
   "metadata": {},
   "outputs": [],
   "source": [
    "results = np.append(results,omyfitsign)"
   ]
  },
  {
   "cell_type": "code",
   "execution_count": 215,
   "id": "becaa528",
   "metadata": {},
   "outputs": [],
   "source": [
    "# pp vs all"
   ]
  },
  {
   "cell_type": "code",
   "execution_count": 216,
   "id": "50989200",
   "metadata": {},
   "outputs": [],
   "source": [
    "def ppvsall(X,Y):\n",
    "    #Creating data\n",
    "    cp = 'cp'\n",
    "    im = 'im'\n",
    "    ms = \"mS\"\n",
    "    ml = \"mL\"\n",
    "    mu = \"mU\"\n",
    "    om = \"om\"\n",
    "    pp = \"pp\"\n",
    "\n",
    "\n",
    "    whereiscp = np.where(Y==cp)[0]\n",
    "    whereisim = np.where(Y==im)[0]\n",
    "    whereisms = np.where(Y==ms)[0]\n",
    "    whereisml = np.where(Y==ml)[0]\n",
    "    whereismu = np.where(Y==mu)[0]\n",
    "    whereisom = np.where(Y==om)[0]\n",
    "    whereispp = np.where(Y==pp)[0]\n",
    "\n",
    "    indxall = np.concatenate((whereiscp,whereisim,whereisms,whereisml,whereismu,whereisom,whereispp))\n",
    "    \n",
    "    Xall = X[indxall]\n",
    "    Yall = np.ones(len(indxall))\n",
    "    Yall[whereiscp] =-1\n",
    "    Yall[whereisim] =-1\n",
    "    Yall[whereisms] =-1\n",
    "    Yall[whereisml] =-1\n",
    "    Yall[whereismu] =-1\n",
    "    Yall[whereisom] =-1\n",
    "\n",
    "    xdual_train, xdual_test, ydual_train, ydual_test = train_test_split(Xall, Yall, test_size = 0.15, random_state=44)\n",
    "    \n",
    "    #Creating Classifier\n",
    "    N = len(ydual_train)\n",
    "    XPY = xdual_train.copy()\n",
    "    for i in range(N):\n",
    "       if ydual_train[i]==-1:\n",
    "          XPY[i,:] =-1 * XPY[i,:]   \n",
    "\n",
    "    A = np.exp(-(LA.norm(XPY-XPY)**2)/np.var(XPY))\n",
    "\n",
    "    #YM = np.outer(ydual_train[1:],ydual_train[1:])\n",
    "    #AY = np.outer(A[0,1:],ydual_train[1:])\n",
    "    #YA = np.outer(ydual_train[1:],A[0,1:])\n",
    "\n",
    "\n",
    "    #Y0S = ydual_train[0]**2\n",
    "    #M = A[1:,1:] + A[0,0]*YM/Y0S - AY/ydual_train[0] - YA/ydual_train[0]\n",
    "    \n",
    "    aw = np.zeros(N)\n",
    "\n",
    "    bright = np.zeros(N)\n",
    "    bright = 1 - ydual_train/ydual_train[0]\n",
    "\n",
    "    adiag = A\n",
    "    t1    = A\n",
    "    t2    = 2*np.multiply(A,ydual_train)/ydual_train[0]\n",
    "    t3    = adiag + t1 - t2\n",
    "    indxnzero = np.where(t3 != 0)\n",
    "    aw[indxnzero[0]]    = np.divide(bright[indxnzero],t3[indxnzero])\n",
    "    aw[0] =-sum(ydual_train[indxnzero]*aw[indxnzero])/ydual_train[0]\n",
    "    \n",
    "    YA = np.zeros(N)\n",
    "    YA[0] = ydual_train[0]*aw[0]\n",
    "    YA[indxnzero] = ydual_train[indxnzero]*aw[indxnzero]\n",
    "    wght = sum(xdual_train * YA[:,None])\n",
    "    b =sum(ydual_train - np.matmul(xdual_train,wght))/N\n",
    "    \n",
    "    #Creating fit\n",
    "    yfit = np.matmul(xdual_test,wght) + b\n",
    "    yfitsign = np.sign(yfit)\n",
    "    ydiff = yfitsign - np.asfarray(ydual_test)\n",
    "    wherediff = np.where(ydiff != 0)\n",
    "    \n",
    "    return wherediff[0], wght, ydual_test, b"
   ]
  },
  {
   "cell_type": "code",
   "execution_count": 217,
   "id": "91bbc851",
   "metadata": {},
   "outputs": [],
   "source": [
    "ppwherediff, ppwght, ppydual_test, ppb= ppvsall(X,Y)"
   ]
  },
  {
   "cell_type": "code",
   "execution_count": 218,
   "id": "da0766ee",
   "metadata": {},
   "outputs": [
    {
     "name": "stdout",
     "output_type": "stream",
     "text": [
      "0.17647058823529413\n"
     ]
    }
   ],
   "source": [
    "print(len(ppwherediff)/len(ppydual_test))"
   ]
  },
  {
   "cell_type": "code",
   "execution_count": 219,
   "id": "e3c1e227",
   "metadata": {},
   "outputs": [],
   "source": [
    "#creating fit on main test for pp"
   ]
  },
  {
   "cell_type": "code",
   "execution_count": 220,
   "id": "154764f9",
   "metadata": {},
   "outputs": [],
   "source": [
    "ppx_test = x_test[np.where(y_test == \"pp\")[0]]\n",
    "ppy_test = y_test[np.where(y_test == \"pp\")[0]]"
   ]
  },
  {
   "cell_type": "code",
   "execution_count": 221,
   "id": "c40c0f52",
   "metadata": {},
   "outputs": [
    {
     "name": "stdout",
     "output_type": "stream",
     "text": [
      "[1 1 1 1 1 1]\n",
      "['pp' 'pp' 'pp' 'pp' 'pp' 'pp']\n"
     ]
    }
   ],
   "source": [
    "ppyfit = np.matmul(ppx_test,ppwght) + ppb\n",
    "ppyfitsign = np.sign(ppyfit)\n",
    "print(ppyfitsign)\n",
    "print(ppy_test)"
   ]
  },
  {
   "cell_type": "code",
   "execution_count": 222,
   "id": "a605b375",
   "metadata": {},
   "outputs": [
    {
     "data": {
      "text/plain": [
       "51"
      ]
     },
     "execution_count": 222,
     "metadata": {},
     "output_type": "execute_result"
    }
   ],
   "source": [
    "results = np.append(results,ppyfitsign)\n",
    "results.size"
   ]
  },
  {
   "cell_type": "code",
   "execution_count": 223,
   "id": "18a36fee",
   "metadata": {},
   "outputs": [
    {
     "name": "stdout",
     "output_type": "stream",
     "text": [
      "Accuracy =  0.9019607843137255\n",
      "Error =  0.09803921568627451\n"
     ]
    }
   ],
   "source": [
    "Right = results[results == 1].size\n",
    "Wrong = results[results == -1].size\n",
    "Total = results.size\n",
    "print(\"Accuracy = \", Right/Total)\n",
    "print(\"Error = \", Wrong/Total)"
   ]
  },
  {
   "cell_type": "code",
   "execution_count": 224,
   "id": "23c6d6a2",
   "metadata": {},
   "outputs": [],
   "source": [
    "# Sklearn for mulitclass radial kernel"
   ]
  },
  {
   "cell_type": "code",
   "execution_count": 225,
   "id": "16d7e8f6",
   "metadata": {},
   "outputs": [
    {
     "data": {
      "text/html": [
       "<style>#sk-container-id-2 {color: black;}#sk-container-id-2 pre{padding: 0;}#sk-container-id-2 div.sk-toggleable {background-color: white;}#sk-container-id-2 label.sk-toggleable__label {cursor: pointer;display: block;width: 100%;margin-bottom: 0;padding: 0.3em;box-sizing: border-box;text-align: center;}#sk-container-id-2 label.sk-toggleable__label-arrow:before {content: \"▸\";float: left;margin-right: 0.25em;color: #696969;}#sk-container-id-2 label.sk-toggleable__label-arrow:hover:before {color: black;}#sk-container-id-2 div.sk-estimator:hover label.sk-toggleable__label-arrow:before {color: black;}#sk-container-id-2 div.sk-toggleable__content {max-height: 0;max-width: 0;overflow: hidden;text-align: left;background-color: #f0f8ff;}#sk-container-id-2 div.sk-toggleable__content pre {margin: 0.2em;color: black;border-radius: 0.25em;background-color: #f0f8ff;}#sk-container-id-2 input.sk-toggleable__control:checked~div.sk-toggleable__content {max-height: 200px;max-width: 100%;overflow: auto;}#sk-container-id-2 input.sk-toggleable__control:checked~label.sk-toggleable__label-arrow:before {content: \"▾\";}#sk-container-id-2 div.sk-estimator input.sk-toggleable__control:checked~label.sk-toggleable__label {background-color: #d4ebff;}#sk-container-id-2 div.sk-label input.sk-toggleable__control:checked~label.sk-toggleable__label {background-color: #d4ebff;}#sk-container-id-2 input.sk-hidden--visually {border: 0;clip: rect(1px 1px 1px 1px);clip: rect(1px, 1px, 1px, 1px);height: 1px;margin: -1px;overflow: hidden;padding: 0;position: absolute;width: 1px;}#sk-container-id-2 div.sk-estimator {font-family: monospace;background-color: #f0f8ff;border: 1px dotted black;border-radius: 0.25em;box-sizing: border-box;margin-bottom: 0.5em;}#sk-container-id-2 div.sk-estimator:hover {background-color: #d4ebff;}#sk-container-id-2 div.sk-parallel-item::after {content: \"\";width: 100%;border-bottom: 1px solid gray;flex-grow: 1;}#sk-container-id-2 div.sk-label:hover label.sk-toggleable__label {background-color: #d4ebff;}#sk-container-id-2 div.sk-serial::before {content: \"\";position: absolute;border-left: 1px solid gray;box-sizing: border-box;top: 0;bottom: 0;left: 50%;z-index: 0;}#sk-container-id-2 div.sk-serial {display: flex;flex-direction: column;align-items: center;background-color: white;padding-right: 0.2em;padding-left: 0.2em;position: relative;}#sk-container-id-2 div.sk-item {position: relative;z-index: 1;}#sk-container-id-2 div.sk-parallel {display: flex;align-items: stretch;justify-content: center;background-color: white;position: relative;}#sk-container-id-2 div.sk-item::before, #sk-container-id-2 div.sk-parallel-item::before {content: \"\";position: absolute;border-left: 1px solid gray;box-sizing: border-box;top: 0;bottom: 0;left: 50%;z-index: -1;}#sk-container-id-2 div.sk-parallel-item {display: flex;flex-direction: column;z-index: 1;position: relative;background-color: white;}#sk-container-id-2 div.sk-parallel-item:first-child::after {align-self: flex-end;width: 50%;}#sk-container-id-2 div.sk-parallel-item:last-child::after {align-self: flex-start;width: 50%;}#sk-container-id-2 div.sk-parallel-item:only-child::after {width: 0;}#sk-container-id-2 div.sk-dashed-wrapped {border: 1px dashed gray;margin: 0 0.4em 0.5em 0.4em;box-sizing: border-box;padding-bottom: 0.4em;background-color: white;}#sk-container-id-2 div.sk-label label {font-family: monospace;font-weight: bold;display: inline-block;line-height: 1.2em;}#sk-container-id-2 div.sk-label-container {text-align: center;}#sk-container-id-2 div.sk-container {/* jupyter's `normalize.less` sets `[hidden] { display: none; }` but bootstrap.min.css set `[hidden] { display: none !important; }` so we also need the `!important` here to be able to override the default hidden behavior on the sphinx rendered scikit-learn.org. See: https://github.com/scikit-learn/scikit-learn/issues/21755 */display: inline-block !important;position: relative;}#sk-container-id-2 div.sk-text-repr-fallback {display: none;}</style><div id=\"sk-container-id-2\" class=\"sk-top-container\"><div class=\"sk-text-repr-fallback\"><pre>OneVsRestClassifier(estimator=SVC())</pre><b>In a Jupyter environment, please rerun this cell to show the HTML representation or trust the notebook. <br />On GitHub, the HTML representation is unable to render, please try loading this page with nbviewer.org.</b></div><div class=\"sk-container\" hidden><div class=\"sk-item sk-dashed-wrapped\"><div class=\"sk-label-container\"><div class=\"sk-label sk-toggleable\"><input class=\"sk-toggleable__control sk-hidden--visually\" id=\"sk-estimator-id-4\" type=\"checkbox\" ><label for=\"sk-estimator-id-4\" class=\"sk-toggleable__label sk-toggleable__label-arrow\">OneVsRestClassifier</label><div class=\"sk-toggleable__content\"><pre>OneVsRestClassifier(estimator=SVC())</pre></div></div></div><div class=\"sk-parallel\"><div class=\"sk-parallel-item\"><div class=\"sk-item\"><div class=\"sk-label-container\"><div class=\"sk-label sk-toggleable\"><input class=\"sk-toggleable__control sk-hidden--visually\" id=\"sk-estimator-id-5\" type=\"checkbox\" ><label for=\"sk-estimator-id-5\" class=\"sk-toggleable__label sk-toggleable__label-arrow\">estimator: SVC</label><div class=\"sk-toggleable__content\"><pre>SVC()</pre></div></div></div><div class=\"sk-serial\"><div class=\"sk-item\"><div class=\"sk-estimator sk-toggleable\"><input class=\"sk-toggleable__control sk-hidden--visually\" id=\"sk-estimator-id-6\" type=\"checkbox\" ><label for=\"sk-estimator-id-6\" class=\"sk-toggleable__label sk-toggleable__label-arrow\">SVC</label><div class=\"sk-toggleable__content\"><pre>SVC()</pre></div></div></div></div></div></div></div></div></div></div>"
      ],
      "text/plain": [
       "OneVsRestClassifier(estimator=SVC())"
      ]
     },
     "execution_count": 225,
     "metadata": {},
     "output_type": "execute_result"
    }
   ],
   "source": [
    "model = SVC(kernel = \"rbf\")\n",
    "m = OneVsRestClassifier(model)\n",
    "m.fit(x_train,y_train)"
   ]
  },
  {
   "cell_type": "code",
   "execution_count": 226,
   "id": "43611a4d",
   "metadata": {},
   "outputs": [
    {
     "name": "stdout",
     "output_type": "stream",
     "text": [
      "Accuracy =  0.9215686274509803\n",
      "Error =  0.07843137254901966\n"
     ]
    }
   ],
   "source": [
    "print(\"Accuracy = \", m.score(x_test,y_test) )\n",
    "print(\"Error = \", 1 - m.score(x_test,y_test))"
   ]
  },
  {
   "cell_type": "code",
   "execution_count": 227,
   "id": "ccecb13b",
   "metadata": {},
   "outputs": [],
   "source": [
    "# It looks like are radial kernel multiclass classification and the SKlearn radial kernel classifier have\n",
    "# very similar Accuracy levels of 0.90 for our own version and 0.92 for the sklearn version."
   ]
  },
  {
   "cell_type": "code",
   "execution_count": null,
   "id": "181c2d70",
   "metadata": {},
   "outputs": [],
   "source": []
  }
 ],
 "metadata": {
  "kernelspec": {
   "display_name": "Python 3 (ipykernel)",
   "language": "python",
   "name": "python3"
  },
  "language_info": {
   "codemirror_mode": {
    "name": "ipython",
    "version": 3
   },
   "file_extension": ".py",
   "mimetype": "text/x-python",
   "name": "python",
   "nbconvert_exporter": "python",
   "pygments_lexer": "ipython3",
   "version": "3.11.4"
  }
 },
 "nbformat": 4,
 "nbformat_minor": 5
}
